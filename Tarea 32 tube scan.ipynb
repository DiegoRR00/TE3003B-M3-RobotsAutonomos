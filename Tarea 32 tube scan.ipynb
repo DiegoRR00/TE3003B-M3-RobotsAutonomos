{
 "cells": [
  {
   "attachments": {},
   "cell_type": "markdown",
   "metadata": {},
   "source": [
    "# Tarea 32 - Rodear objetos\n",
    "## Equipo 3"
   ]
  },
  {
   "attachments": {},
   "cell_type": "markdown",
   "metadata": {},
   "source": [
    "Primero se importan las librerias necesarias."
   ]
  },
  {
   "cell_type": "code",
   "execution_count": 1,
   "metadata": {},
   "outputs": [],
   "source": [
    "import rospy\n",
    "import numpy as np\n",
    "from geometry_msgs.msg import Twist, PointStamped\n",
    "from nav_msgs.msg import Odometry\n",
    "from sensor_msgs.msg import LaserScan\n",
    "from tf.transformations import euler_from_quaternion\n",
    "from sklearn.cluster import DBSCAN"
   ]
  },
  {
   "attachments": {},
   "cell_type": "markdown",
   "metadata": {},
   "source": [
    "Luego se declaran variables globales."
   ]
  },
  {
   "cell_type": "code",
   "execution_count": 2,
   "metadata": {},
   "outputs": [],
   "source": [
    "pos = Twist()\n",
    "db = DBSCAN(eps=0.25, min_samples=2)\n",
    "rospy.init_node('scan_detect_fine')\n",
    "rate = rospy.Rate(2)\n",
    "pub = rospy.Publisher('/dopt_points',PointStamped,queue_size=10)\n",
    "centers = []"
   ]
  },
  {
   "attachments": {},
   "cell_type": "markdown",
   "metadata": {},
   "source": [
    "Declaramos el callback de Odometría el cual se encarga de dar la posición del robot de acuerdo a sus cálculos de las velocidades hechas en cada motor."
   ]
  },
  {
   "cell_type": "code",
   "execution_count": 3,
   "metadata": {},
   "outputs": [],
   "source": [
    "def callbackOdom(msg):\n",
    "    global pos\n",
    "    pos.linear.x = msg.pose.pose.position.x\n",
    "    pos.linear.y = msg.pose.pose.position.y\n",
    "    rot_q = msg.pose.pose.orientation\n",
    "    (_,_,pos.angular.z) = euler_from_quaternion([rot_q.x, rot_q.y, rot_q.z, rot_q.w])"
   ]
  },
  {
   "attachments": {},
   "cell_type": "markdown",
   "metadata": {},
   "source": [
    "Esta función sirve para dar la diferencia de distancia entre dos puntos en el plano cartesiano."
   ]
  },
  {
   "cell_type": "code",
   "execution_count": 4,
   "metadata": {},
   "outputs": [],
   "source": [
    "def dis(src, goal):\n",
    "    return np.sqrt((goal[0]-src[0])**2 + (goal[1]-src[1])**2)"
   ]
  },
  {
   "attachments": {},
   "cell_type": "markdown",
   "metadata": {},
   "source": [
    "Este callback verifica con el LiDAR los obstáculos parecidos a tubos como patas de sillas o mesas. Si se detecta un tubo con ciertas características, el centroide posible se publica a ROS."
   ]
  },
  {
   "cell_type": "code",
   "execution_count": 5,
   "metadata": {},
   "outputs": [],
   "source": [
    "def callbackScan(msg):\n",
    "    global pos\n",
    "    global db\n",
    "    global pub\n",
    "    global centers\n",
    "\n",
    "    scan = np.array(msg.ranges)\n",
    "\n",
    "    ang = msg.angle_min + pos.angular.z\n",
    "    andf = msg.angle_max + pos.angular.z\n",
    "    inc = msg.angle_increment\n",
    "    angles = np.arange(ang,andf+inc,inc)\n",
    "\n",
    "    vec = np.zeros((scan.shape[0],2))\n",
    "    vec[:,0] = scan*np.cos(angles) + pos.linear.x\n",
    "    vec[:,1] = scan*np.sin(angles) + pos.linear.y\n",
    "    vec = vec[~np.isnan(vec).any(axis=1), :]\n",
    "    vec = vec[np.isfinite(vec).any(axis=1), :]\n",
    "    clusters = db.fit_predict(vec)\n",
    "    \n",
    "    for i in range(clusters.max() + 1):\n",
    "        pdc = vec[clusters==i,:]\n",
    "        cdc = np.mean(pdc, axis=0) \n",
    "        b = True\n",
    "        if len(centers) == 0 and pdc.shape[0] < 10 and dis(cdc, [pos.linear.x,pos.linear.y]) < 1.5:\n",
    "            b = True\n",
    "        elif len(centers) == 0:\n",
    "            b = False\n",
    "        for j in centers:\n",
    "            if dis(cdc,j) < 0.5 or pdc.shape[0] > 10 or dis(cdc, [pos.linear.x,pos.linear.y]) > 1.5:\n",
    "                b = False\n",
    "        if b:\n",
    "            centers.append(cdc)\n",
    "            ps = PointStamped()\n",
    "            ps.header.stamp = rospy.Time.now()\n",
    "            ps.header.frame_id = 'turtlebot3_burger'\n",
    "            ps.point.x = cdc[0]\n",
    "            ps.point.y = cdc[1]\n",
    "            pub.publish(ps)"
   ]
  },
  {
   "attachments": {},
   "cell_type": "markdown",
   "metadata": {},
   "source": [
    "Ésta es la función principal donde se inicializan los nodos suscriptores"
   ]
  },
  {
   "cell_type": "code",
   "execution_count": 6,
   "metadata": {},
   "outputs": [],
   "source": [
    "def main():\n",
    "    global pos\n",
    "    \n",
    "    odom = rospy.Subscriber('/odom',Odometry,callbackOdom)\n",
    "    scanS = rospy.Subscriber('/scan',LaserScan,callbackScan)\n",
    "    \n",
    "    rospy.spin()"
   ]
  },
  {
   "attachments": {},
   "cell_type": "markdown",
   "metadata": {},
   "source": [
    "Finalmente, para ejecutar el código oficialmente (sin antes haber ya ejecutado las celdas anteriores y lanzado el mundo de turtlebot en Gazebo), se ejecuta la siguiente celda para iniciar con el proceso:"
   ]
  },
  {
   "cell_type": "code",
   "execution_count": 7,
   "metadata": {},
   "outputs": [],
   "source": [
    "if __name__ == '__main__':\n",
    "    try:\n",
    "        main()\n",
    "    except rospy.ROSInterruptException:\n",
    "        pass"
   ]
  }
 ],
 "metadata": {
  "kernelspec": {
   "display_name": "Python 3",
   "language": "python",
   "name": "python3"
  },
  "language_info": {
   "codemirror_mode": {
    "name": "ipython",
    "version": 3
   },
   "file_extension": ".py",
   "mimetype": "text/x-python",
   "name": "python",
   "nbconvert_exporter": "python",
   "pygments_lexer": "ipython3",
   "version": "3.8.10"
  },
  "orig_nbformat": 4
 },
 "nbformat": 4,
 "nbformat_minor": 2
}
