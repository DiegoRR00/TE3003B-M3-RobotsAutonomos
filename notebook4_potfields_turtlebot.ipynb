{
 "cells": [
  {
   "cell_type": "markdown",
   "metadata": {
    "id": "G-effaRbQQVR",
    "lang": "ja"
   },
   "source": []
  },
  {
   "cell_type": "markdown",
   "metadata": {
    "id": "SkYzVnYvQQVU"
   },
   "source": [
    "ITESM CCM\n",
    "Oscar Fuentes\n",
    "\n",
    "\n",
    "Para correr este notebook debe tenerse familiaridad con términos de ROS como tópicos, listeners, publishers, mensajes etc.\n"
   ]
  },
  {
   "cell_type": "code",
   "execution_count": null,
   "metadata": {
    "id": "537iglBRQQVV"
   },
   "outputs": [],
   "source": []
  },
  {
   "cell_type": "code",
   "execution_count": 1,
   "metadata": {
    "colab": {
     "base_uri": "https://localhost:8080/",
     "height": 376
    },
    "executionInfo": {
     "elapsed": 349,
     "status": "error",
     "timestamp": 1660844996566,
     "user": {
      "displayName": "Valeria Calle",
      "userId": "14932664033283499409"
     },
     "user_tz": 300
    },
    "id": "7rqs0esnQQVW",
    "outputId": "bd956da9-2b99-4b8b-f63f-1579a6dda252"
   },
   "outputs": [],
   "source": [
    "import math\n",
    "import numpy as np\n",
    "import rospy\n",
    "import time\n",
    "from sensor_msgs.msg import LaserScan\n",
    "\n",
    "from geometry_msgs.msg import Twist\n"
   ]
  },
  {
   "cell_type": "markdown",
   "metadata": {
    "id": "afPDztMgQQVW"
   },
   "source": [
    "Introducimos ahora dos nuevos tipos de mensajes relevantes. Imagen  y nube de puntos, Ambos mensajes propios de ros, \n",
    "se muestran algunas librerías que hacen más fácil su utilización en Python\n",
    "https://www.ros.org/\n",
    "http://wiki.ros.org/ros_numpy\n",
    "http://wiki.ros.org/cv_bridge\n"
   ]
  },
  {
   "cell_type": "code",
   "execution_count": 2,
   "metadata": {
    "id": "aZBg-rpqQQVX"
   },
   "outputs": [],
   "source": [
    "import ros_numpy\n",
    "\n"
   ]
  },
  {
   "cell_type": "markdown",
   "metadata": {
    "id": "J70VdkIIQQVX"
   },
   "source": []
  },
  {
   "cell_type": "markdown",
   "metadata": {
    "id": "04A8El2KQQVX"
   },
   "source": [
    "En este notebook una simple maquina de estados para evasión de obstáculos"
   ]
  },
  {
   "cell_type": "markdown",
   "metadata": {
    "id": "Xzfar2zPQQVY"
   },
   "source": []
  },
  {
   "cell_type": "code",
   "execution_count": null,
   "metadata": {
    "id": "26rXLbPdQQVY"
   },
   "outputs": [],
   "source": []
  },
  {
   "cell_type": "code",
   "execution_count": null,
   "metadata": {
    "id": "QOvwWN4AQQVZ"
   },
   "outputs": [],
   "source": []
  },
  {
   "cell_type": "code",
   "execution_count": null,
   "metadata": {
    "id": "xWDuy-EzQQVZ"
   },
   "outputs": [],
   "source": []
  },
  {
   "cell_type": "code",
   "execution_count": 3,
   "metadata": {
    "id": "JYHLUK94QQVa"
   },
   "outputs": [],
   "source": [
    "rospy.init_node('evasion_notebook_node') \n",
    "base_vel_pub = rospy.Publisher('/cmd_vel', Twist, queue_size=10)"
   ]
  },
  {
   "cell_type": "markdown",
   "metadata": {
    "id": "xd2pCj-mQQVa"
   },
   "source": [
    "Nos valdremos de nuestra vieja función de movimiento, asi como la clase Laser para obtener las lecturas del sensor (revisar notebook 1)"
   ]
  },
  {
   "cell_type": "markdown",
   "metadata": {
    "id": "wchvCbAaQQVa"
   },
   "source": [
    "Simultáneamente , es publicado en el tópico \"/hsrb/head_rgbd_sensor/depth_registered/rectified_points\"\n",
    ", información de la nube de puntos, en forma de un mensaje tipo  PointCloud2"
   ]
  },
  {
   "cell_type": "code",
   "execution_count": 4,
   "metadata": {
    "id": "cqJfkquIQQVa"
   },
   "outputs": [],
   "source": [
    "\n",
    "def move_base_vel(vx, vy, vw):\n",
    "    twist = Twist()\n",
    "    twist.linear.x = vx\n",
    "    twist.linear.y = vy\n",
    "    twist.angular.z = vw \n",
    "    base_vel_pub.publish(twist)\n",
    "\n",
    "def move_base(x,y,yaw,timeout=5):\n",
    "    start_time = rospy.Time.now().to_sec()\n",
    "    while rospy.Time.now().to_sec() - start_time < timeout:  \n",
    "        move_base_vel(x, y, yaw)\n",
    "    move_base_vel(0,0, 0)"
   ]
  },
  {
   "cell_type": "code",
   "execution_count": 7,
   "metadata": {},
   "outputs": [],
   "source": [
    "move_base(1,0,0,1 )"
   ]
  },
  {
   "cell_type": "code",
   "execution_count": 15,
   "metadata": {},
   "outputs": [],
   "source": [
    "move_base(0,0,1.57,1)"
   ]
  },
  {
   "cell_type": "code",
   "execution_count": 10,
   "metadata": {},
   "outputs": [],
   "source": [
    "###COMENTAR Y DISCUTIR"
   ]
  },
  {
   "cell_type": "code",
   "execution_count": null,
   "metadata": {},
   "outputs": [],
   "source": []
  },
  {
   "cell_type": "code",
   "execution_count": null,
   "metadata": {},
   "outputs": [],
   "source": []
  },
  {
   "cell_type": "markdown",
   "metadata": {
    "id": "C6g0uYGL5lY_"
   },
   "source": [
    "![alt text](state_machine.png \"Maquina de estados\")"
   ]
  },
  {
   "cell_type": "code",
   "execution_count": 5,
   "metadata": {
    "id": "wPNMCLdeQQVb"
   },
   "outputs": [],
   "source": [
    "def move_forward():\n",
    "    move_base(0.15,0,0,2.5)\n",
    "def move_backward():\n",
    "    move_base(-0.05,0,0,1.5)\n",
    "def turn_left():\n",
    "    move_base(0.0,0,0.12*np.pi,2)\n",
    "def turn_right():\n",
    "    move_base(0.0,0,-0.12*np.pi,2)"
   ]
  },
  {
   "cell_type": "code",
   "execution_count": 9,
   "metadata": {
    "id": "jxnHqrA05lZA"
   },
   "outputs": [],
   "source": [
    "move_forward()"
   ]
  },
  {
   "cell_type": "code",
   "execution_count": 10,
   "metadata": {
    "id": "c2AJbviS5lZA"
   },
   "outputs": [],
   "source": [
    "move_backward()"
   ]
  },
  {
   "cell_type": "code",
   "execution_count": 11,
   "metadata": {
    "id": "h59QIuwe5lZA"
   },
   "outputs": [],
   "source": [
    "turn_right()"
   ]
  },
  {
   "cell_type": "code",
   "execution_count": 12,
   "metadata": {},
   "outputs": [],
   "source": [
    "turn_left()"
   ]
  },
  {
   "cell_type": "code",
   "execution_count": 5,
   "metadata": {
    "id": "-6913Nhy5lZA"
   },
   "outputs": [],
   "source": [
    "from sensor_msgs.msg import LaserScan\n",
    "\n",
    "class Laser():\n",
    "    u\"\"\"Class that handles laser information\"\"\"\n",
    "\n",
    "    def __init__(self):\n",
    "        # Register the _laser_cb method as a callback to the laser scan topic events\n",
    "        self._laser_sub = rospy.Subscriber ('scan',\n",
    "                                           LaserScan, self._laser_cb)\n",
    "        self._scan_data = None\n",
    "\n",
    "    def _laser_cb (self, msg):\n",
    "        # Laser scan callback function\n",
    "        self._scan_data = msg\n",
    "\n",
    "    def get_data(self):\n",
    "        u\"\"\"Function to get the laser value\"\"\"\n",
    "        return self._scan_data"
   ]
  },
  {
   "cell_type": "code",
   "execution_count": 8,
   "metadata": {
    "id": "4BXtgJqK5lZB"
   },
   "outputs": [],
   "source": [
    "laser = Laser()  #instanciamos una clase "
   ]
  },
  {
   "cell_type": "code",
   "execution_count": 7,
   "metadata": {
    "id": "hmg_Wp575lZB",
    "outputId": "5de3e6a4-badc-4e2a-ed95-c8c5206fbeb4"
   },
   "outputs": [],
   "source": [
    "lectura=laser.get_data()\n",
    "lectura=np.asarray(laser.get_data().ranges)\n",
    "lectura=np.where(lectura>20,0,lectura) #remove infinito"
   ]
  },
  {
   "cell_type": "code",
   "execution_count": null,
   "metadata": {},
   "outputs": [],
   "source": [
    "lectura=laser.get_data()\n",
    "lectura=np.asarray(laser.get_data().ranges)\n",
    "lectura=np.where(lectura>20,0,lectura) #remove infinito\n",
    "front_scan=  lectura[3*len(lectura)/4:5*len(lectura)/4]\n",
    "right_scan=  lectura[len(lectura)/2:]   \n",
    "right_scan= right_scan[::-1]\n",
    "right_scan=right_scan[:len(right_scan)/2]\n",
    "left_scan=  lectura[:len(lectura)/4] \n",
    "\n",
    "\n",
    "#right_scan=  lectura[len(lectura)/2:(len(lectura)/2)+20]\n",
    "#left_scan =  lectura[len(lectura)/2-20:len(lectura)/2]"
   ]
  },
  {
   "cell_type": "code",
   "execution_count": null,
   "metadata": {},
   "outputs": [],
   "source": [
    "left_scan=  lectura[:len(lectura)/4] \n",
    "left_scan"
   ]
  },
  {
   "cell_type": "code",
   "execution_count": null,
   "metadata": {},
   "outputs": [],
   "source": [
    "front_scan.mean(),right_scan.mean(),left_scan.mean()"
   ]
  },
  {
   "cell_type": "code",
   "execution_count": null,
   "metadata": {
    "id": "R547AhVX5lZC"
   },
   "outputs": [],
   "source": [
    "def get_lectura_cuant():\n",
    "    lectura=np.asarray(laser.get_data().ranges)\n",
    "    \n",
    "    lectura=np.where(lectura>3,0,lectura) #remove infinito\n",
    "    front_scan=  lectura[3*len(lectura)/4:5*len(lectura)/4]\n",
    "    front_scan=  lectura[3*len(lectura)/4:5*len(lectura)/4]\n",
    "    right_scan=  lectura[len(lectura)/2:]   \n",
    "    right_scan= right_scan[::-1]\n",
    "    right_scan=right_scan[:len(right_scan)/8]\n",
    "    left_scan=  lectura[:len(lectura)/8] \n",
    "\n",
    "\n",
    "\n",
    "    sd,si=0,0\n",
    "    if np.mean(left_scan) > 0:   si=1\n",
    "    if np.mean(right_scan)> 0:   sd=1\n",
    "    return si,sd#front scan \n"
   ]
  },
  {
   "cell_type": "code",
   "execution_count": null,
   "metadata": {
    "id": "ypXam3AC5lZC"
   },
   "outputs": [],
   "source": []
  },
  {
   "cell_type": "code",
   "execution_count": null,
   "metadata": {
    "id": "wNx9xrWj5lZC"
   },
   "outputs": [],
   "source": [
    "si,sd=get_lectura_cuant()\n",
    "si,sd"
   ]
  },
  {
   "cell_type": "code",
   "execution_count": null,
   "metadata": {},
   "outputs": [],
   "source": [
    "move_forward()\n",
    "#turn_left()"
   ]
  },
  {
   "cell_type": "code",
   "execution_count": null,
   "metadata": {
    "id": "6c2iX1U85lZC",
    "outputId": "08301224-f941-4ce2-f90f-f8a0fa68fc3a"
   },
   "outputs": [],
   "source": [
    "si,sd=get_lectura_cuant()\n",
    "next_state= 's_0'\n",
    "i=0\n",
    "print (i, next_state, si, sd)"
   ]
  },
  {
   "cell_type": "code",
   "execution_count": null,
   "metadata": {
    "id": "4auWTRBP5lZC",
    "outputId": "8dfb7b6f-3bac-41a4-a33d-34058d08512d",
    "scrolled": true
   },
   "outputs": [],
   "source": [
    "for i in range (250):## 20 pasos  pueden ser mas\n",
    "    print ('step',i,'next ', next_state,'sensor izq', si,'sensor der', sd)\n",
    "#print (next_state)\n",
    "    if next_state== 's_0':\n",
    "        print ('im in state ' , next_state)\n",
    "        si,sd=get_lectura_cuant()\n",
    "        #ESTADO 0 obtener lectura\n",
    "        if (si==0 and sd==0): next_state='s_0'\n",
    "            \n",
    "        if (si==0 and sd==1): next_state='s_1'\n",
    "        if (si==1 and sd==0): next_state='s_3'\n",
    "        if (si==1 and sd==1): next_state='s_5'\n",
    "        #####Accion\n",
    "        move_forward()\n",
    "        \n",
    "\n",
    "\n",
    "\n",
    "    elif next_state== 's_1':\n",
    "        print ('im in state 1')\n",
    "\n",
    "        #####Accion\n",
    "        move_backward()\n",
    "\n",
    "        next_state='s_2'\n",
    "\n",
    "\n",
    "    elif next_state== 's_2':\n",
    "        print ('im in state 2')\n",
    "        #####Accion\n",
    "        turn_left()\n",
    "        next_state='s_0'\n",
    "\n",
    "\n",
    "    elif next_state== 's_3':\n",
    "        print ('im in state 3')\n",
    "        #####Accion\n",
    "        move_backward()\n",
    "        next_state='s_4'\n",
    "\n",
    "\n",
    "    elif next_state== 's_4':\n",
    "        print ('im in state 4')\n",
    "        #####Accion\n",
    "        turn_right()\n",
    "        next_state='s_0'\n",
    "\n",
    "    elif next_state== 's_5':\n",
    "        print ('im in state 5')\n",
    "\n",
    "        #####Accion\n",
    "\n",
    "        move_backward()\n",
    "        move_backward()\n",
    "        move_backward()\n",
    "        next_state='s_6'\n",
    "\n",
    "    elif next_state== 's_6':\n",
    "        print ('im in state 6')\n",
    "        #####Accion\n",
    "        turn_left()\n",
    "        next_state='s_7'\n",
    "\n",
    "    elif next_state== 's_7':\n",
    "        print ('im in state 7')\n",
    "        #####Accion\n",
    "        turn_left()\n",
    "        next_state='s_8'\n",
    "\n",
    "    elif next_state== 's_8':\n",
    "        print ('im in state 8')\n",
    "\n",
    "        #####Accion\n",
    "        move_forward()\n",
    "        next_state='s_9'\n",
    "\n",
    "    elif next_state== 's_9':\n",
    "        print ('im in state 9')\n",
    "        #####Accion\n",
    "        #move_forward()\n",
    "        next_state='s_10'\n",
    "\n",
    "    elif next_state== 's_10':\n",
    "        print ('im in state 10')\n",
    "        #####Accion\n",
    "        turn_right()\n",
    "        next_state='s_11'\n",
    "    elif next_state== 's_11':\n",
    "        print ('im in state 11')\n",
    "\n",
    "        #####Accion\n",
    "        turn_right()\n",
    "        next_state='s_0'\n",
    "\n",
    "\n",
    "\n",
    "\n"
   ]
  },
  {
   "cell_type": "code",
   "execution_count": null,
   "metadata": {
    "id": "6fCHQW8D5lZD",
    "outputId": "756c3f59-4fa6-4f69-9ce0-432cd83e37e2"
   },
   "outputs": [],
   "source": [
    "print ('step, next_state, ssensorizq, sensor derecha',i, next_state, si, sd)"
   ]
  },
  {
   "cell_type": "code",
   "execution_count": null,
   "metadata": {
    "id": "7GqQxZHI5lZD"
   },
   "outputs": [],
   "source": []
  },
  {
   "cell_type": "code",
   "execution_count": null,
   "metadata": {},
   "outputs": [],
   "source": [
    "move_forward()"
   ]
  },
  {
   "cell_type": "code",
   "execution_count": null,
   "metadata": {},
   "outputs": [],
   "source": [
    "right_scan=  lectura[len(lectura)/4:(len(lectura)/2)-20]\n",
    "left_scan =  lectura[len(lectura)/2:3*len(lectura)/3]\n",
    "front_scan=  lectura[len(lectura)/2+20:3*len(lectura)/4]\n"
   ]
  },
  {
   "cell_type": "code",
   "execution_count": null,
   "metadata": {},
   "outputs": [],
   "source": [
    "right_scan.mean()"
   ]
  },
  {
   "cell_type": "code",
   "execution_count": null,
   "metadata": {},
   "outputs": [],
   "source": [
    "left_scan.mean()"
   ]
  },
  {
   "cell_type": "code",
   "execution_count": 8,
   "metadata": {},
   "outputs": [
    {
     "ename": "TypeError",
     "evalue": "_laser_cb() takes exactly 2 arguments (1 given)",
     "output_type": "error",
     "traceback": [
      "\u001b[0;31m---------------------------------------------------------------------------\u001b[0m",
      "\u001b[0;31mTypeError\u001b[0m                                 Traceback (most recent call last)",
      "\u001b[0;32m<ipython-input-8-9f05f90cf859>\u001b[0m in \u001b[0;36m<module>\u001b[0;34m()\u001b[0m\n\u001b[0;32m----> 1\u001b[0;31m \u001b[0mlaser\u001b[0m\u001b[0;34m.\u001b[0m\u001b[0m_laser_cb\u001b[0m\u001b[0;34m(\u001b[0m\u001b[0;34m)\u001b[0m\u001b[0;34m\u001b[0m\u001b[0m\n\u001b[0m",
      "\u001b[0;31mTypeError\u001b[0m: _laser_cb() takes exactly 2 arguments (1 given)"
     ]
    }
   ],
   "source": [
    "laser._laser_cb()"
   ]
  },
  {
   "cell_type": "markdown",
   "metadata": {},
   "source": [
    "# ODOM"
   ]
  },
  {
   "cell_type": "code",
   "execution_count": 6,
   "metadata": {},
   "outputs": [],
   "source": [
    "import tf\n",
    "def newOdom (msg):\n",
    "    global x\n",
    "    global y\n",
    "    global th\n",
    "    \n",
    "    x=msg.pose.pose.position.x\n",
    "    y=msg.pose.pose.position.y\n",
    "    quaternion = (\n",
    "    msg.pose.pose.orientation.x,\n",
    "    msg.pose.pose.orientation.y,\n",
    "    msg.pose.pose.orientation.z,\n",
    "    msg.pose.pose.orientation.w)\n",
    "    euler = tf.transformations.euler_from_quaternion(quaternion)\n",
    "    th=euler[2]\n"
   ]
  },
  {
   "cell_type": "code",
   "execution_count": 7,
   "metadata": {},
   "outputs": [],
   "source": [
    "#READ CLICK POINT\n",
    "from geometry_msgs.msg import PointStamped\n",
    "def readPoint(punto):\n",
    "     global xcl , ycl\n",
    "     \n",
    "     xcl =punto.point.x\n",
    "     ycl =punto.point.y"
   ]
  },
  {
   "cell_type": "code",
   "execution_count": 8,
   "metadata": {},
   "outputs": [],
   "source": [
    "from nav_msgs.msg import Odometry\n",
    "\n",
    "sub= rospy.Subscriber(\"/odom\",Odometry,newOdom)\n"
   ]
  },
  {
   "cell_type": "code",
   "execution_count": 9,
   "metadata": {},
   "outputs": [],
   "source": [
    "pub = rospy.Publisher('/cmd_vel', Twist, queue_size=1)"
   ]
  },
  {
   "cell_type": "code",
   "execution_count": null,
   "metadata": {},
   "outputs": [],
   "source": []
  },
  {
   "cell_type": "code",
   "execution_count": null,
   "metadata": {},
   "outputs": [],
   "source": []
  },
  {
   "cell_type": "code",
   "execution_count": 16,
   "metadata": {},
   "outputs": [],
   "source": [
    "sub3=rospy.Subscriber(\"/clicked_point\",PointStamped,readPoint)\n"
   ]
  },
  {
   "cell_type": "code",
   "execution_count": 12,
   "metadata": {},
   "outputs": [
    {
     "data": {
      "text/plain": [
       "(1.0952262878417969, 0.38174670934677124)"
      ]
     },
     "execution_count": 12,
     "metadata": {},
     "output_type": "execute_result"
    }
   ],
   "source": [
    "xcl,ycl"
   ]
  },
  {
   "cell_type": "markdown",
   "metadata": {},
   "source": [
    "# POTFIELDS"
   ]
  },
  {
   "cell_type": "code",
   "execution_count": 10,
   "metadata": {},
   "outputs": [],
   "source": [
    "laser= Laser()"
   ]
  },
  {
   "cell_type": "code",
   "execution_count": 17,
   "metadata": {},
   "outputs": [],
   "source": [
    "data=laser.get_data()\n",
    "lec=np.asarray(data.ranges)\n",
    "lec[np.isinf(lec)]=3.5\n"
   ]
  },
  {
   "cell_type": "code",
   "execution_count": 18,
   "metadata": {},
   "outputs": [],
   "source": [
    "deltaang=   ( data.angle_max-data.angle_min  )   /len(data.ranges)"
   ]
  },
  {
   "cell_type": "code",
   "execution_count": 19,
   "metadata": {},
   "outputs": [
    {
     "data": {
      "text/plain": [
       "0.01745330492655436"
      ]
     },
     "execution_count": 19,
     "metadata": {},
     "output_type": "execute_result"
    }
   ],
   "source": [
    "deltaang"
   ]
  },
  {
   "cell_type": "code",
   "execution_count": 20,
   "metadata": {},
   "outputs": [],
   "source": [
    "laserdegs=  np.arange(data.angle_min,data.angle_max,deltaang)"
   ]
  },
  {
   "cell_type": "code",
   "execution_count": 21,
   "metadata": {},
   "outputs": [],
   "source": [
    "Fx=0\n",
    "Fy = 0.001\n",
    "for i,deg in enumerate(laserdegs):\n",
    "    if i >=360:break \n",
    "    \n",
    "    if (lec[i] <2.61):\n",
    "        Fx = Fx + (1/lec[i])**2 * np.cos(deg)\n",
    "        Fy = Fy + (1/lec[i])**2 * np.sin(deg)\n",
    "         "
   ]
  },
  {
   "cell_type": "code",
   "execution_count": 22,
   "metadata": {},
   "outputs": [
    {
     "name": "stdout",
     "output_type": "stream",
     "text": [
      "FxFyFth -162.7382919239599 5.0138214370837675 358.23532640458404\n"
     ]
    }
   ],
   "source": [
    "Fth= np.arctan2(Fy,Fx)+np.pi\n",
    "print('FxFyFth',Fx,Fy,Fth*180/np.pi)\n",
    "Fmag= np.linalg.norm((Fx,Fy))"
   ]
  },
  {
   "cell_type": "code",
   "execution_count": null,
   "metadata": {},
   "outputs": [],
   "source": []
  },
  {
   "cell_type": "code",
   "execution_count": 23,
   "metadata": {},
   "outputs": [
    {
     "name": "stdout",
     "output_type": "stream",
     "text": [
      "xclick,yclick 1.0 0.0 euclD 1.0000822763500168\n"
     ]
    }
   ],
   "source": [
    "xy,xycl=np.array((x,y)) ,   np.array((xcl,ycl))\n",
    "euclD=np.linalg.norm(xy-xycl)\n",
    "#print(\"xrob,yrob, throbot\",x,y,th*180/3.1416)\n",
    "print(\"xclick,yclick\",xcl,ycl,\"euclD\",euclD)\n",
    "\n"
   ]
  },
  {
   "cell_type": "code",
   "execution_count": 24,
   "metadata": {},
   "outputs": [
    {
     "name": "stdout",
     "output_type": "stream",
     "text": [
      "Fatx, Fatry, Fatrth 1.0000003935329278 -0.00036655017636064526 -0.35186203701561614\n"
     ]
    }
   ],
   "source": [
    "Fatrx =( -x + xcl)/euclD\n",
    "Fatry =( -y + ycl)/euclD      \n",
    "Fatrth=np.arctan2(Fatry, Fatrx) \n",
    "Fatrth=Fatrth-th\n",
    "Fmagat= np.linalg.norm((Fatrx,Fatry))\n",
    "print ('Fatx, Fatry, Fatrth',Fatrx,Fatry,(Fatrth)*180/np.pi )"
   ]
  },
  {
   "cell_type": "code",
   "execution_count": 25,
   "metadata": {},
   "outputs": [],
   "source": [
    "Ftotx= Fmag*np.cos(Fth)*.00251   +    Fmagat*np.cos(Fatrth)\n",
    "Ftoty= Fmag*np.sin(Fth)*.00251    +    Fmagat*np.sin(Fatrth)\n",
    "Ftotth=np.arctan2(Ftoty,Ftotx)\n",
    "##################################################################\n",
    "if ( Ftotth> np.pi ):Ftotth=       -np.pi-    (Ftotth-np.pi)\n",
    "if (Ftotth < -np.pi):Ftotth= (Ftotth     +2 *np.pi)\n"
   ]
  },
  {
   "cell_type": "code",
   "execution_count": 26,
   "metadata": {},
   "outputs": [
    {
     "name": "stdout",
     "output_type": "stream",
     "text": [
      "Ftotxy 1.4084547166239676 -0.01872580709417788 -0.7617188476317114\n"
     ]
    }
   ],
   "source": [
    "print('Ftotxy',Ftotx,Ftoty,Ftotth*180/np.pi)\n"
   ]
  },
  {
   "cell_type": "code",
   "execution_count": 27,
   "metadata": {},
   "outputs": [
    {
     "name": "stdout",
     "output_type": "stream",
     "text": [
      "lin\n"
     ]
    }
   ],
   "source": [
    "speed=Twist()\n",
    "vel=0.4\n",
    "if( abs(Ftotth) < .15) :#or (np.linalg.norm((Fx,Fy)) < 100):\n",
    "     speed.linear.x=1.9\n",
    "     print('lin')\n",
    "     speed.angular.z=0\n",
    "else:\n",
    "         \n",
    "        if Ftotth < 0:\n",
    "            if (abs( Ftotth ) < np.pi/2):\n",
    "                vel=.24\n",
    "                speed.angular.z=-0.25\n",
    "                print('open curve')\n",
    "         \n",
    "            print('Vang-')\n",
    "            speed.linear.x=vel\n",
    "            speed.angular.z=-0.25\n",
    "        if Ftotth > 0:\n",
    "            if (abs( Ftotth ) < np.pi/2):\n",
    "                vel=.24\n",
    "                print('open curve')\n",
    "         \n",
    "            \n",
    "            print('Vang+')\n",
    "            speed.linear.x=vel\n",
    "            speed.angular.z=.25"
   ]
  },
  {
   "cell_type": "code",
   "execution_count": 11,
   "metadata": {},
   "outputs": [],
   "source": [
    "def get_Rep_Force():\n",
    "    data=laser.get_data()\n",
    "    lec=np.asarray(data.ranges)\n",
    "    lec[np.isinf(lec)]=13.5\n",
    "    deltaang=   ( data.angle_max-data.angle_min  )   /len(data.ranges)\n",
    "    laserdegs=  np.arange(data.angle_min,data.angle_max,deltaang)\n",
    "    Fx=  0.0\n",
    "    Fy = 0.0\n",
    "    for i,deg in enumerate(laserdegs):\n",
    "        if i >=360:break \n",
    "\n",
    "        if (lec[i] < 4.9): ###TUNABLE\n",
    "            Fx = Fx + (1/lec[i])**2 * np.cos(deg)\n",
    "            Fy = Fy + (1/lec[i])**2 * np.sin(deg)\n",
    "    Fth= np.arctan2(Fy,(Fx))+np.pi\n",
    "    #print('FxFyFth',Fx,Fy,Fth*180/np.pi)\n",
    "    Fmag= np.linalg.norm((Fx,Fy))\n",
    "    return Fx,Fy,Fmag,Fth\n",
    "    "
   ]
  },
  {
   "cell_type": "code",
   "execution_count": 12,
   "metadata": {},
   "outputs": [],
   "source": [
    "def get_Att_Force():\n",
    "    xy,xycl=np.array((x,y)) ,   np.array((xcl,ycl))\n",
    "    euclD=np.linalg.norm(xy-xycl)\n",
    "    #print(\"xrob,yrob, throbot\",x,y,th*180/3.1416)\n",
    "    #print(\"xclick,yclick\",xcl,ycl,\"euclD\",euclD)\n",
    "\n",
    "    Fatrx =( -x + xcl)/euclD\n",
    "    Fatry =( -y + ycl)/euclD      \n",
    "    Fatrth=np.arctan2(Fatry, Fatrx) \n",
    "    Fatrth=Fatrth-th\n",
    "    Fmagat= np.linalg.norm((Fatrx,Fatry))\n",
    "    #print ('Fatx, Fatry, Fatrth',Fatrx,Fatry,(Fatrth)*180/np.pi )\n",
    "    return  Fatrx, Fatry , Fmagat, Fatrth, euclD"
   ]
  },
  {
   "cell_type": "code",
   "execution_count": 13,
   "metadata": {},
   "outputs": [],
   "source": [
    "def get_Speed(Ftotx,Ftoty,Ftotth):\n",
    "    speed=Twist()\n",
    "    if( abs(Ftotth) < .1) :\n",
    "        \n",
    "        speed.linear.x=0.13\n",
    "        #print('lin')\n",
    "        speed.angular.z=0\n",
    "\n",
    "    else:\n",
    "        \n",
    "        if Ftotth < 0:                            \n",
    "                if (abs( Ftotth ) < np.pi/2):\n",
    "                    speed.linear.x= 0.025\n",
    "                    speed.angular.z=-0.25\n",
    "                    #print('open curve')\n",
    "                \n",
    "                else:                    \n",
    "                    #print('Vang-')\n",
    "                    speed.linear.x=  0.0\n",
    "                    speed.angular.z=-0.5\n",
    "                        \n",
    "        if Ftotth > 0:\n",
    "                if (abs( Ftotth ) < np.pi/2):\n",
    "                    speed.linear.x= 0.05\n",
    "                    speed.angular.z=.25\n",
    "                    #print('open curve')\n",
    "                \n",
    "                else:\n",
    "                    #print('Vang+')\n",
    "                    speed.linear.x=  0.0\n",
    "                    speed.angular.z= 0.5\n",
    "    return speed"
   ]
  },
  {
   "cell_type": "code",
   "execution_count": null,
   "metadata": {},
   "outputs": [],
   "source": []
  },
  {
   "cell_type": "code",
   "execution_count": 31,
   "metadata": {},
   "outputs": [
    {
     "data": {
      "text/plain": [
       "linear: \n",
       "  x: 0.13\n",
       "  y: 0.0\n",
       "  z: 0.0\n",
       "angular: \n",
       "  x: 0.0\n",
       "  y: 0.0\n",
       "  z: 0"
      ]
     },
     "execution_count": 31,
     "metadata": {},
     "output_type": "execute_result"
    }
   ],
   "source": [
    "get_Speed(Ftotx,Ftoty,Ftotth)"
   ]
  },
  {
   "cell_type": "code",
   "execution_count": 16,
   "metadata": {},
   "outputs": [
    {
     "name": "stdout",
     "output_type": "stream",
     "text": [
      "1\n",
      "im here 0.1770414952997858 False\n",
      "2\n",
      "im here 0.17769695965526913 False\n",
      "3\n",
      "im here 0.17968252774769233 False\n",
      "4\n",
      "im here 0.18095943813742935 False\n",
      "5\n",
      "im here 0.18303915325379758 False\n",
      "6\n",
      "im here 0.1851528455775947 False\n",
      "7\n",
      "im here 0.18755092443123245 False\n",
      "8\n",
      "im here 0.19019315346058258 False\n",
      "9\n",
      "im here 0.19301304732433294 False\n",
      "10\n",
      "im here 0.19600204393028303 False\n",
      "11\n",
      "im here 0.19809482815811355 False\n",
      "12\n",
      "13\n",
      "14\n",
      "15\n",
      "16\n",
      "17\n",
      "18\n",
      "19\n",
      "20\n",
      "21\n",
      "22\n",
      "23\n",
      "24\n",
      "25\n",
      "26\n",
      "27\n",
      "28\n",
      "29\n",
      "30\n",
      "31\n",
      "32\n",
      "33\n",
      "34\n",
      "35\n",
      "36\n",
      "37\n",
      "38\n",
      "39\n",
      "40\n",
      "41\n",
      "42\n",
      "43\n",
      "44\n",
      "45\n",
      "46\n",
      "47\n",
      "48\n",
      "49\n",
      "50\n",
      "51\n",
      "52\n",
      "53\n",
      "54\n",
      "55\n",
      "56\n",
      "57\n",
      "58\n",
      "59\n",
      "60\n",
      "61\n",
      "62\n",
      "63\n",
      "64\n",
      "65\n",
      "66\n",
      "67\n",
      "68\n",
      "69\n",
      "70\n",
      "71\n",
      "72\n",
      "73\n",
      "74\n",
      "75\n",
      "76\n",
      "77\n",
      "78\n",
      "79\n",
      "80\n",
      "81\n",
      "82\n",
      "83\n",
      "84\n",
      "85\n",
      "86\n",
      "87\n",
      "88\n",
      "89\n",
      "90\n",
      "91\n",
      "92\n",
      "93\n",
      "94\n",
      "95\n",
      "96\n",
      "97\n",
      "98\n",
      "99\n",
      "100\n",
      "101\n",
      "102\n",
      "103\n",
      "104\n",
      "105\n",
      "106\n",
      "107\n",
      "108\n",
      "109\n",
      "110\n",
      "111\n",
      "112\n",
      "113\n",
      "114\n",
      "115\n",
      "116\n",
      "117\n",
      "118\n",
      "119\n",
      "120\n",
      "121\n",
      "122\n",
      "123\n",
      "124\n",
      "125\n",
      "126\n",
      "127\n",
      "128\n",
      "129\n",
      "130\n",
      "131\n",
      "132\n",
      "133\n",
      "134\n",
      "135\n",
      "136\n",
      "137\n",
      "138\n",
      "139\n",
      "140\n",
      "141\n",
      "142\n",
      "143\n",
      "144\n",
      "145\n",
      "146\n",
      "147\n",
      "148\n",
      "149\n",
      "150\n",
      "151\n",
      "152\n",
      "153\n",
      "154\n",
      "155\n",
      "156\n",
      "157\n",
      "158\n",
      "159\n",
      "160\n",
      "161\n",
      "162\n",
      "163\n",
      "164\n",
      "165\n",
      "166\n",
      "167\n",
      "168\n",
      "169\n",
      "170\n",
      "171\n",
      "172\n",
      "173\n",
      "174\n",
      "175\n",
      "176\n",
      "177\n",
      "178\n",
      "179\n",
      "180\n",
      "181\n",
      "182\n",
      "183\n",
      "184\n",
      "185\n",
      "186\n",
      "187\n",
      "188\n",
      "189\n",
      "190\n",
      "191\n",
      "192\n",
      "193\n",
      "194\n",
      "195\n",
      "196\n",
      "197\n",
      "198\n",
      "199\n",
      "200\n",
      "201\n",
      "202\n",
      "203\n",
      "204\n",
      "205\n",
      "206\n",
      "207\n",
      "208\n",
      "209\n",
      "210\n",
      "211\n",
      "212\n",
      "213\n",
      "214\n",
      "215\n",
      "216\n",
      "217\n",
      "218\n",
      "219\n",
      "220\n",
      "221\n",
      "222\n",
      "223\n",
      "224\n",
      "225\n",
      "226\n",
      "227\n",
      "228\n",
      "229\n",
      "230\n",
      "231\n",
      "232\n",
      "233\n",
      "234\n",
      "235\n",
      "236\n",
      "237\n",
      "238\n",
      "239\n",
      "240\n",
      "241\n",
      "242\n",
      "243\n",
      "244\n",
      "245\n",
      "246\n",
      "247\n",
      "248\n",
      "249\n",
      "250\n",
      "251\n",
      "252\n",
      "253\n",
      "254\n",
      "255\n",
      "256\n",
      "257\n",
      "258\n",
      "259\n",
      "260\n",
      "261\n",
      "262\n",
      "263\n",
      "264\n",
      "265\n",
      "266\n",
      "im here 0.19359510328384377 False\n",
      "1\n",
      "im here 0.1826924907653126 False\n",
      "2\n",
      "im here 0.1702535854935103 False\n",
      "3\n",
      "im here 0.16380282022996392 False\n",
      "4\n",
      "im here 0.1572790448601073 False\n",
      "5\n",
      "im here 0.1557917067491293 False\n",
      "6\n",
      "im here 0.15508530878847487 False\n",
      "7\n",
      "im here 0.15468271625077354 False\n",
      "8\n",
      "im here 0.15416059742699956 False\n",
      "9\n",
      "im here 0.15390355697114444 False\n",
      "10\n",
      "im here 0.1534060886421699 False\n",
      "11\n",
      "im here 0.15316235621906046 False\n",
      "12\n",
      "im here 0.1528004094927441 False\n",
      "13\n",
      "im here 0.15233294183175558 False\n",
      "14\n",
      "im here 0.15206059375527747 False\n",
      "15\n",
      "im here 0.1516325311102325 False\n",
      "16\n",
      "im here 0.15123983336384242 False\n",
      "17\n",
      "im here 0.15105359626693754 False\n",
      "18\n",
      "im here 0.15087559951887328 False\n",
      "19\n",
      "im here 0.15054818417972124 False\n",
      "20\n",
      "im here 0.15032599576391603 False\n",
      "21\n",
      "im here 0.15006385752489515 False\n",
      "22\n",
      "im here 0.14994681383802588 False\n",
      "23\n",
      "im here 0.14974553902774143 False\n",
      "24\n",
      "im here 0.14966002074633944 False\n",
      "25\n",
      "im here 0.14955235793004823 False\n",
      "26\n",
      "im here 0.14946899009983133 False\n",
      "27\n",
      "im here 0.1494273363442398 False\n",
      "28\n",
      "im here 0.14938767067993836 False\n",
      "29\n",
      "im here 0.1493753797589176 False\n",
      "30\n",
      "im here 0.14940124655165304 False\n",
      "31\n",
      "im here 0.14974859296734042 False\n",
      "32\n",
      "im here 0.15000326373657152 False\n",
      "33\n",
      "im here 0.15047910375691348 False\n",
      "34\n",
      "im here 0.15128774571619794 False\n",
      "35\n",
      "im here 0.15177011363422055 False\n",
      "36\n",
      "im here 0.15258204555600924 False\n",
      "37\n",
      "im here 0.15350227935786992 False\n",
      "38\n",
      "im here 0.15417828731163247 False\n",
      "39\n",
      "im here 0.15565821898029028 False\n",
      "40\n",
      "im here 0.15688868102979706 False\n",
      "41\n",
      "im here 0.15867629869767141 False\n",
      "42\n",
      "im here 0.15964009748545072 False\n",
      "43\n",
      "im here 0.16115476180299598 False\n",
      "44\n",
      "im here 0.16275767643699368 False\n",
      "45\n",
      "im here 0.16444538187596847 False\n",
      "46\n",
      "im here 0.16621396644149367 False\n",
      "47\n",
      "im here 0.16744180203115908 False\n",
      "48\n",
      "im here 0.1699752126120415 False\n",
      "49\n",
      "im here 0.1726273362169503 False\n",
      "50\n",
      "im here 0.17400160460728387 False\n",
      "51\n",
      "im here 0.17593351367215648 False\n",
      "52\n",
      "im here 0.1783784539097325 False\n",
      "53\n",
      "im here 0.1798416950246944 False\n",
      "54\n",
      "im here 0.18284245943934452 False\n",
      "55\n",
      "im here 0.1843863825116092 False\n",
      "56\n",
      "im here 0.18672943577669684 False\n",
      "57\n",
      "im here 0.18911641343609759 False\n",
      "58\n",
      "im here 0.1907388501054734 False\n",
      "59\n",
      "im here 0.19401076847327867 False\n",
      "60\n",
      "im here 0.19651245030541145 False\n",
      "61\n",
      "im here 0.19988983097292778 False\n",
      "62\n",
      "63\n",
      "64\n",
      "65\n",
      "66\n",
      "67\n",
      "68\n",
      "69\n",
      "70\n",
      "71\n",
      "72\n",
      "73\n",
      "74\n",
      "75\n",
      "76\n",
      "77\n",
      "78\n",
      "79\n",
      "80\n",
      "81\n",
      "82\n",
      "83\n",
      "84\n",
      "85\n",
      "86\n",
      "87\n",
      "88\n",
      "89\n",
      "90\n",
      "91\n",
      "92\n",
      "93\n",
      "94\n",
      "95\n",
      "96\n",
      "97\n",
      "98\n",
      "99\n",
      "100\n",
      "101\n",
      "102\n",
      "103\n",
      "104\n",
      "105\n",
      "106\n",
      "107\n",
      "108\n",
      "109\n",
      "110\n",
      "111\n",
      "112\n",
      "113\n",
      "114\n",
      "115\n",
      "116\n",
      "117\n",
      "118\n",
      "119\n",
      "120\n",
      "121\n",
      "122\n",
      "123\n",
      "124\n",
      "125\n",
      "126\n",
      "127\n",
      "128\n",
      "129\n",
      "130\n",
      "131\n",
      "132\n",
      "133\n",
      "134\n",
      "135\n",
      "136\n",
      "137\n",
      "138\n",
      "139\n",
      "140\n",
      "141\n",
      "142\n",
      "143\n",
      "144\n",
      "145\n",
      "146\n",
      "147\n",
      "148\n",
      "149\n",
      "150\n",
      "151\n",
      "152\n",
      "153\n",
      "154\n",
      "155\n",
      "156\n",
      "157\n",
      "158\n",
      "159\n",
      "160\n",
      "161\n",
      "162\n",
      "163\n",
      "164\n",
      "165\n",
      "166\n",
      "167\n",
      "168\n",
      "169\n",
      "170\n",
      "171\n",
      "172\n",
      "173\n",
      "174\n",
      "175\n",
      "176\n",
      "177\n",
      "178\n",
      "179\n",
      "180\n",
      "181\n",
      "182\n",
      "183\n",
      "184\n",
      "185\n",
      "186\n",
      "187\n",
      "188\n",
      "189\n",
      "190\n",
      "191\n",
      "192\n",
      "193\n",
      "194\n",
      "195\n",
      "196\n",
      "197\n",
      "198\n",
      "199\n",
      "200\n",
      "201\n",
      "202\n",
      "203\n",
      "204\n",
      "205\n",
      "206\n",
      "207\n",
      "208\n",
      "209\n",
      "210\n",
      "211\n",
      "212\n",
      "213\n",
      "214\n",
      "215\n",
      "216\n",
      "217\n",
      "218\n",
      "219\n",
      "220\n",
      "221\n",
      "222\n",
      "223\n",
      "224\n",
      "225\n",
      "226\n",
      "im here 0.19830873062212231 False\n",
      "1\n",
      "im here 0.19152220628825253 False\n",
      "2\n",
      "im here 0.18699224184247049 False\n",
      "3\n",
      "im here 0.182525849207814 False\n",
      "4\n",
      "im here 0.18223329789359077 False\n",
      "5\n",
      "im here 0.18165380754800106 False\n",
      "6\n",
      "im here 0.18136290680834197 False\n",
      "7\n",
      "im here 0.18093065737496575 False\n",
      "8\n",
      "im here 0.18050111360407683 False\n",
      "9\n",
      "im here 0.1802150704827444 False\n",
      "10\n",
      "im here 0.1796525218401601 False\n",
      "11\n",
      "im here 0.17923474690883698 False\n",
      "12\n",
      "im here 0.1786013093667456 False\n",
      "13\n",
      "im here 0.17827386420355645 False\n",
      "14\n",
      "im here 0.17774661807768571 False\n",
      "15\n",
      "im here 0.1774889424705054 False\n",
      "16\n",
      "im here 0.17711370894010064 False\n",
      "17\n",
      "im here 0.17675095887467354 False\n",
      "18\n",
      "im here 0.17651561944586455 False\n",
      "19\n",
      "im here 0.1760689716560315 False\n",
      "20\n",
      "im here 0.17575275066412835 False\n",
      "21\n",
      "im here 0.17536131523231208 False\n",
      "22\n",
      "im here 0.1751775735065371 False\n",
      "23\n",
      "im here 0.1749207870969192 False\n",
      "24\n",
      "im here 0.17468562840073132 False\n",
      "25\n",
      "im here 0.17447493498480882 False\n",
      "26\n",
      "im here 0.1743393771196519 False\n",
      "27\n",
      "im here 0.17428429497579137 False\n",
      "28\n",
      "im here 0.17414922013562467 False\n",
      "29\n",
      "im here 0.17402305738264834 False\n",
      "30\n",
      "im here 0.17391947290177695 False\n",
      "31\n",
      "im here 0.17386268020314807 False\n",
      "32\n",
      "im here 0.1737798928825632 False\n",
      "33\n",
      "im here 0.17374410219386258 False\n",
      "34\n",
      "im here 0.17373203608901247 False\n",
      "35\n",
      "im here 0.1737563678206588 False\n",
      "36\n",
      "im here 0.17398488819736116 False\n",
      "37\n",
      "im here 0.17436698930146582 False\n",
      "38\n",
      "im here 0.1746838515540066 False\n",
      "39\n",
      "im here 0.17545606038042408 False\n",
      "40\n",
      "im here 0.17591649664084427 False\n",
      "41\n",
      "im here 0.176970151234837 False\n",
      "42\n",
      "im here 0.17820608919944012 False\n",
      "43\n",
      "im here 0.17889629100379398 False\n",
      "44\n",
      "im here 0.18000883456433125 False\n",
      "45\n",
      "im here 0.18163724320192678 False\n",
      "46\n",
      "im here 0.1825196382691963 False\n",
      "47\n",
      "im here 0.18391119036992773 False\n",
      "48\n",
      "im here 0.18538881486267025 False\n"
     ]
    },
    {
     "ename": "KeyboardInterrupt",
     "evalue": "",
     "output_type": "error",
     "traceback": [
      "\u001b[0;31m---------------------------------------------------------------------------\u001b[0m",
      "\u001b[0;31mKeyboardInterrupt\u001b[0m                         Traceback (most recent call last)",
      "Cell \u001b[0;32mIn[16], line 50\u001b[0m\n\u001b[1;32m     46\u001b[0m pub\u001b[39m.\u001b[39mpublish(speed)\n\u001b[1;32m     47\u001b[0m \u001b[39m#if me_muero:\u001b[39;00m\n\u001b[1;32m     48\u001b[0m  \u001b[39m#   break\u001b[39;00m\n\u001b[0;32m---> 50\u001b[0m rate\u001b[39m.\u001b[39;49msleep()\n",
      "File \u001b[0;32m/opt/ros/noetic/lib/python3/dist-packages/rospy/timer.py:103\u001b[0m, in \u001b[0;36mRate.sleep\u001b[0;34m(self)\u001b[0m\n\u001b[1;32m    101\u001b[0m curr_time \u001b[39m=\u001b[39m rospy\u001b[39m.\u001b[39mrostime\u001b[39m.\u001b[39mget_rostime()\n\u001b[1;32m    102\u001b[0m \u001b[39mtry\u001b[39;00m:\n\u001b[0;32m--> 103\u001b[0m     sleep(\u001b[39mself\u001b[39;49m\u001b[39m.\u001b[39;49m_remaining(curr_time))\n\u001b[1;32m    104\u001b[0m \u001b[39mexcept\u001b[39;00m rospy\u001b[39m.\u001b[39mexceptions\u001b[39m.\u001b[39mROSTimeMovedBackwardsException:\n\u001b[1;32m    105\u001b[0m     \u001b[39mif\u001b[39;00m \u001b[39mnot\u001b[39;00m \u001b[39mself\u001b[39m\u001b[39m.\u001b[39m_reset:\n",
      "File \u001b[0;32m/opt/ros/noetic/lib/python3/dist-packages/rospy/timer.py:159\u001b[0m, in \u001b[0;36msleep\u001b[0;34m(duration)\u001b[0m\n\u001b[1;32m    155\u001b[0m \u001b[39mwhile\u001b[39;00m rospy\u001b[39m.\u001b[39mrostime\u001b[39m.\u001b[39mget_rostime() \u001b[39m<\u001b[39m sleep_t \u001b[39mand\u001b[39;00m \\\n\u001b[1;32m    156\u001b[0m       rospy\u001b[39m.\u001b[39mrostime\u001b[39m.\u001b[39mget_rostime() \u001b[39m>\u001b[39m\u001b[39m=\u001b[39m initial_rostime \u001b[39mand\u001b[39;00m \\\n\u001b[1;32m    157\u001b[0m           \u001b[39mnot\u001b[39;00m rospy\u001b[39m.\u001b[39mcore\u001b[39m.\u001b[39mis_shutdown():\n\u001b[1;32m    158\u001b[0m     \u001b[39mwith\u001b[39;00m rostime_cond:\n\u001b[0;32m--> 159\u001b[0m         rostime_cond\u001b[39m.\u001b[39;49mwait(\u001b[39m0.5\u001b[39;49m)\n\u001b[1;32m    161\u001b[0m \u001b[39mif\u001b[39;00m rospy\u001b[39m.\u001b[39mrostime\u001b[39m.\u001b[39mget_rostime() \u001b[39m<\u001b[39m initial_rostime:\n\u001b[1;32m    162\u001b[0m     time_jump \u001b[39m=\u001b[39m (initial_rostime \u001b[39m-\u001b[39m rospy\u001b[39m.\u001b[39mrostime\u001b[39m.\u001b[39mget_rostime())\u001b[39m.\u001b[39mto_sec()\n",
      "File \u001b[0;32m/usr/lib/python3.8/threading.py:306\u001b[0m, in \u001b[0;36mCondition.wait\u001b[0;34m(self, timeout)\u001b[0m\n\u001b[1;32m    304\u001b[0m \u001b[39melse\u001b[39;00m:\n\u001b[1;32m    305\u001b[0m     \u001b[39mif\u001b[39;00m timeout \u001b[39m>\u001b[39m \u001b[39m0\u001b[39m:\n\u001b[0;32m--> 306\u001b[0m         gotit \u001b[39m=\u001b[39m waiter\u001b[39m.\u001b[39;49macquire(\u001b[39mTrue\u001b[39;49;00m, timeout)\n\u001b[1;32m    307\u001b[0m     \u001b[39melse\u001b[39;00m:\n\u001b[1;32m    308\u001b[0m         gotit \u001b[39m=\u001b[39m waiter\u001b[39m.\u001b[39macquire(\u001b[39mFalse\u001b[39;00m)\n",
      "\u001b[0;31mKeyboardInterrupt\u001b[0m: "
     ]
    }
   ],
   "source": [
    "rate = rospy.Rate(10)\n",
    "counter=0\n",
    "me_muero = False\n",
    "xcl = 0\n",
    "ycl = 0\n",
    "inicio = True\n",
    "n_s = 500\n",
    "while not rospy.is_shutdown():\n",
    "        counter+=1\n",
    "        print(counter)\n",
    "        Fx,Fy,Fmag,Fth          =get_Rep_Force()\n",
    "        Fatx,Faty,Fmagat,Fatrth, euclD =get_Att_Force()\n",
    "        #######TUNABLE\n",
    "        if counter < n_s or inicio:\n",
    "             signer = -10\n",
    "        else:\n",
    "             signer = 1\n",
    "        if inicio:\n",
    "             if counter > n_s:\n",
    "                  inicio = False\n",
    "        Ftotx= Fmag*np.cos(Fth)*.004   +    Fmagat*np.cos(Fatrth) * signer\n",
    "        Ftoty= Fmag*np.sin(Fth)*.004    +    Fmagat*np.sin(Fatrth) * signer\n",
    "        Ftotth=np.arctan2(Ftoty,Ftotx)\n",
    "        ###ANGLE NORMALIZATION\n",
    "        if ( Ftotth> np.pi ):     Ftotth=       -np.pi-    (Ftotth-np.pi)\n",
    "        if (Ftotth < -np.pi): Ftotth= (Ftotth     +2 *np.pi)\n",
    "        if counter==1000000:\n",
    "            print('Ftotxy',Ftotx,Ftoty,Ftotth*180/np.pi, 'eulcD', euclD)\n",
    "            counter=0\n",
    "        ####\n",
    "        speed=get_Speed(Ftotx,Ftoty,Ftotth)\n",
    "        #if eculD < 2: speed.linear.x=0.2\n",
    "        xy,xycl=np.array((x,y)) ,   np.array((xcl,ycl))\n",
    "        euclD=np.linalg.norm(xy-xycl)\n",
    "        radioRobot = 0.1\n",
    "        if euclD < radioRobot * 2: \n",
    "            #speed.linear.x = 0 \n",
    "            #speed.angular.z = 0\n",
    "            print(\"im here\", euclD,(euclD < radioRobot))\n",
    "            #me_muero = True\n",
    "            if counter > n_s:\n",
    "                inicio = False\n",
    "                counter = 0\n",
    "            \n",
    "            #rospy.sleep(1)\n",
    "            #break\n",
    "        pub.publish(speed)\n",
    "        #if me_muero:\n",
    "         #   break\n",
    "        \n",
    "        rate.sleep()"
   ]
  },
  {
   "cell_type": "code",
   "execution_count": null,
   "metadata": {},
   "outputs": [],
   "source": [
    "# ENTREGAR"
   ]
  },
  {
   "cell_type": "markdown",
   "metadata": {},
   "source": [
    "# TAREA POR EQUIPOS"
   ]
  },
  {
   "cell_type": "markdown",
   "metadata": {},
   "source": [
    "# Programar al menos 3 conductas para el turltebot. \n",
    "# UTILIZAR MAQUINAS DE ESTADOS  y SMACH\n",
    " \n",
    " ## 1.   De ellas será  una evasión de obstáculos modificada de la tarea 1 para esta vez \"rodear\" el obstáculo\n",
    " (I.A. Clásica)\n",
    " \n",
    " ## 2.  Implemente navegación reactiva utilizando campos potenciales y SLAM\n",
    " (Completamente Reactivo).\n",
    " \n",
    " ## 3.  Implemente un \"árbtiro\" que sea capaz de detectar que el agente se encuentra en un mínimo local y repcuperar la movilidad.(Híbrido)\n",
    " \n",
    " ## 4. Utililzando tf2_ros  Obtenga un estimado de las coordenadas más \"seguras\".\n",
    " ### se sabe que las patas de las  mesas un son punto particularmente peligroso...\n",
    " \n",
    " Publique una transformada (tf ) en posiciones cuyas lecturas de lidar permiten suponer la presencia de una mesa o silla ... patas .\n",
    " \n",
    " \n",
    " \n",
    " \n",
    " \n",
    " \n",
    " "
   ]
  },
  {
   "cell_type": "markdown",
   "metadata": {},
   "source": [
    "# Obtener la ubicación del agente en el mapa... MAPAS SLAM:... "
   ]
  },
  {
   "cell_type": "code",
   "execution_count": null,
   "metadata": {},
   "outputs": [],
   "source": [
    "import tf2_ros\n",
    "tfBuffer = tf2_ros.Buffer()\n",
    "listener = tf2_ros.TransformListener(tfBuffer)\n",
    "def get_coords ():\n",
    "    trans = tfBuffer.lookup_transform('map', 'base_link', rospy.Time())\n",
    "    return trans\n"
   ]
  },
  {
   "cell_type": "code",
   "execution_count": 39,
   "metadata": {},
   "outputs": [
    {
     "data": {
      "text/plain": [
       "geometry_msgs.msg._TransformStamped.TransformStamped"
      ]
     },
     "execution_count": 39,
     "metadata": {},
     "output_type": "execute_result"
    }
   ],
   "source": [
    "t=get_coords()\n",
    "type (t)"
   ]
  },
  {
   "cell_type": "code",
   "execution_count": 40,
   "metadata": {},
   "outputs": [],
   "source": [
    "broadcaster = tf2_ros.StaticTransformBroadcaster()"
   ]
  },
  {
   "cell_type": "code",
   "execution_count": 42,
   "metadata": {},
   "outputs": [],
   "source": [
    "t.child_frame_id='here'"
   ]
  },
  {
   "cell_type": "code",
   "execution_count": 44,
   "metadata": {},
   "outputs": [],
   "source": [
    "broadcaster = tf2_ros.StaticTransformBroadcaster()\n"
   ]
  },
  {
   "cell_type": "code",
   "execution_count": 45,
   "metadata": {},
   "outputs": [],
   "source": [
    "broadcaster.sendTransform(t)"
   ]
  },
  {
   "cell_type": "code",
   "execution_count": null,
   "metadata": {},
   "outputs": [],
   "source": []
  }
 ],
 "metadata": {
  "colab": {
   "collapsed_sections": [
    "B1jN0hJ5QQVf",
    "AIior_xSQQVf"
   ],
   "provenance": []
  },
  "kernelspec": {
   "display_name": "Python 3",
   "language": "python",
   "name": "python3"
  },
  "language_info": {
   "codemirror_mode": {
    "name": "ipython",
    "version": 3
   },
   "file_extension": ".py",
   "mimetype": "text/x-python",
   "name": "python",
   "nbconvert_exporter": "python",
   "pygments_lexer": "ipython3",
   "version": "3.8.10"
  },
  "nbTranslate": {
   "displayLangs": [
    "ja",
    "en"
   ],
   "hotkey": "alt-t",
   "langInMainMenu": true,
   "sourceLang": "ja",
   "targetLang": "en",
   "useGoogleTranslate": true
  },
  "toc": {
   "base_numbering": 1,
   "nav_menu": {},
   "number_sections": true,
   "sideBar": true,
   "skip_h1_title": false,
   "title_cell": "Table of Contents",
   "title_sidebar": "Contents",
   "toc_cell": false,
   "toc_position": {},
   "toc_section_display": true,
   "toc_window_display": true
  }
 },
 "nbformat": 4,
 "nbformat_minor": 1
}
