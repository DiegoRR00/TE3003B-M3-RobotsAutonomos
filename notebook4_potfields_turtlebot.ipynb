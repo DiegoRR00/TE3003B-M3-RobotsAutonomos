{
 "cells": [
  {
   "cell_type": "markdown",
   "metadata": {
    "id": "G-effaRbQQVR",
    "lang": "ja"
   },
   "source": []
  },
  {
   "cell_type": "markdown",
   "metadata": {
    "id": "SkYzVnYvQQVU"
   },
   "source": [
    "ITESM CCM\n",
    "Oscar Fuentes\n",
    "\n",
    "\n",
    "Para correr este notebook debe tenerse familiaridad con términos de ROS como tópicos, listeners, publishers, mensajes etc.\n"
   ]
  },
  {
   "cell_type": "code",
   "execution_count": null,
   "metadata": {
    "id": "537iglBRQQVV"
   },
   "outputs": [],
   "source": []
  },
  {
   "cell_type": "code",
   "execution_count": 1,
   "metadata": {
    "colab": {
     "base_uri": "https://localhost:8080/",
     "height": 376
    },
    "executionInfo": {
     "elapsed": 349,
     "status": "error",
     "timestamp": 1660844996566,
     "user": {
      "displayName": "Valeria Calle",
      "userId": "14932664033283499409"
     },
     "user_tz": 300
    },
    "id": "7rqs0esnQQVW",
    "outputId": "bd956da9-2b99-4b8b-f63f-1579a6dda252"
   },
   "outputs": [],
   "source": [
    "import math\n",
    "import numpy as np\n",
    "import rospy\n",
    "import time\n",
    "from sensor_msgs.msg import LaserScan\n",
    "\n",
    "from geometry_msgs.msg import Twist\n"
   ]
  },
  {
   "cell_type": "markdown",
   "metadata": {
    "id": "afPDztMgQQVW"
   },
   "source": [
    "Introducimos ahora dos nuevos tipos de mensajes relevantes. Imagen  y nube de puntos, Ambos mensajes propios de ros, \n",
    "se muestran algunas librerías que hacen más fácil su utilización en Python\n",
    "https://www.ros.org/\n",
    "http://wiki.ros.org/ros_numpy\n",
    "http://wiki.ros.org/cv_bridge\n"
   ]
  },
  {
   "cell_type": "code",
   "execution_count": 2,
   "metadata": {
    "id": "aZBg-rpqQQVX"
   },
   "outputs": [],
   "source": [
    "import ros_numpy\n",
    "\n"
   ]
  },
  {
   "cell_type": "markdown",
   "metadata": {
    "id": "J70VdkIIQQVX"
   },
   "source": []
  },
  {
   "cell_type": "markdown",
   "metadata": {
    "id": "04A8El2KQQVX"
   },
   "source": [
    "En este notebook una simple maquina de estados para evasión de obstáculos"
   ]
  },
  {
   "cell_type": "markdown",
   "metadata": {
    "id": "Xzfar2zPQQVY"
   },
   "source": []
  },
  {
   "cell_type": "code",
   "execution_count": null,
   "metadata": {
    "id": "26rXLbPdQQVY"
   },
   "outputs": [],
   "source": []
  },
  {
   "cell_type": "code",
   "execution_count": null,
   "metadata": {
    "id": "QOvwWN4AQQVZ"
   },
   "outputs": [],
   "source": []
  },
  {
   "cell_type": "code",
   "execution_count": null,
   "metadata": {
    "id": "xWDuy-EzQQVZ"
   },
   "outputs": [],
   "source": []
  },
  {
   "cell_type": "code",
   "execution_count": 3,
   "metadata": {
    "id": "JYHLUK94QQVa"
   },
   "outputs": [],
   "source": [
    "rospy.init_node('evasion_notebook_node') \n",
    "base_vel_pub = rospy.Publisher('/cmd_vel', Twist, queue_size=10)"
   ]
  },
  {
   "cell_type": "markdown",
   "metadata": {
    "id": "xd2pCj-mQQVa"
   },
   "source": [
    "Nos valdremos de nuestra vieja función de movimiento, asi como la clase Laser para obtener las lecturas del sensor (revisar notebook 1)"
   ]
  },
  {
   "cell_type": "markdown",
   "metadata": {
    "id": "wchvCbAaQQVa"
   },
   "source": [
    "Simultáneamente , es publicado en el tópico \"/hsrb/head_rgbd_sensor/depth_registered/rectified_points\"\n",
    ", información de la nube de puntos, en forma de un mensaje tipo  PointCloud2"
   ]
  },
  {
   "cell_type": "code",
   "execution_count": 4,
   "metadata": {
    "id": "cqJfkquIQQVa"
   },
   "outputs": [],
   "source": [
    "\n",
    "def move_base_vel(vx, vy, vw):\n",
    "    twist = Twist()\n",
    "    twist.linear.x = vx\n",
    "    twist.linear.y = vy\n",
    "    twist.angular.z = vw \n",
    "    base_vel_pub.publish(twist)\n",
    "\n",
    "def move_base(x,y,yaw,timeout=5):\n",
    "    start_time = rospy.Time.now().to_sec()\n",
    "    while rospy.Time.now().to_sec() - start_time < timeout:  \n",
    "        move_base_vel(x, y, yaw)\n",
    "    move_base_vel(0,0, 0)"
   ]
  },
  {
   "cell_type": "code",
   "execution_count": 7,
   "metadata": {},
   "outputs": [],
   "source": [
    "move_base(1,0,0,1 )"
   ]
  },
  {
   "cell_type": "code",
   "execution_count": 15,
   "metadata": {},
   "outputs": [],
   "source": [
    "move_base(0,0,1.57,1)"
   ]
  },
  {
   "cell_type": "code",
   "execution_count": 10,
   "metadata": {},
   "outputs": [],
   "source": [
    "###COMENTAR Y DISCUTIR"
   ]
  },
  {
   "cell_type": "code",
   "execution_count": null,
   "metadata": {},
   "outputs": [],
   "source": []
  },
  {
   "cell_type": "code",
   "execution_count": null,
   "metadata": {},
   "outputs": [],
   "source": []
  },
  {
   "cell_type": "markdown",
   "metadata": {
    "id": "C6g0uYGL5lY_"
   },
   "source": [
    "![alt text](state_machine.png \"Maquina de estados\")"
   ]
  },
  {
   "cell_type": "code",
   "execution_count": 17,
   "metadata": {
    "id": "wPNMCLdeQQVb"
   },
   "outputs": [],
   "source": [
    "def move_forward():\n",
    "    move_base(0.15,0,0,2.5)\n",
    "def move_backward():\n",
    "    move_base(-0.05,0,0,1.5)\n",
    "def turn_left():\n",
    "    move_base(0.0,0,0.12*np.pi,2)\n",
    "def turn_right():\n",
    "    move_base(0.0,0,-0.12*np.pi,2)"
   ]
  },
  {
   "cell_type": "code",
   "execution_count": 9,
   "metadata": {
    "id": "jxnHqrA05lZA"
   },
   "outputs": [],
   "source": [
    "move_forward()"
   ]
  },
  {
   "cell_type": "code",
   "execution_count": 10,
   "metadata": {
    "id": "c2AJbviS5lZA"
   },
   "outputs": [],
   "source": [
    "move_backward()"
   ]
  },
  {
   "cell_type": "code",
   "execution_count": 11,
   "metadata": {
    "id": "h59QIuwe5lZA"
   },
   "outputs": [],
   "source": [
    "turn_right()"
   ]
  },
  {
   "cell_type": "code",
   "execution_count": 12,
   "metadata": {},
   "outputs": [],
   "source": [
    "turn_left()"
   ]
  },
  {
   "cell_type": "code",
   "execution_count": 5,
   "metadata": {
    "id": "-6913Nhy5lZA"
   },
   "outputs": [],
   "source": [
    "from sensor_msgs.msg import LaserScan\n",
    "\n",
    "class Laser():\n",
    "    u\"\"\"Class that handles laser information\"\"\"\n",
    "\n",
    "    def __init__(self):\n",
    "        # Register the _laser_cb method as a callback to the laser scan topic events\n",
    "        self._laser_sub = rospy.Subscriber ('scan',\n",
    "                                           LaserScan, self._laser_cb)\n",
    "        self._scan_data = None\n",
    "\n",
    "    def _laser_cb (self, msg):\n",
    "        # Laser scan callback function\n",
    "        self._scan_data = msg\n",
    "\n",
    "    def get_data(self):\n",
    "        u\"\"\"Function to get the laser value\"\"\"\n",
    "        return self._scan_data"
   ]
  },
  {
   "cell_type": "code",
   "execution_count": 6,
   "metadata": {
    "id": "4BXtgJqK5lZB"
   },
   "outputs": [],
   "source": [
    "laser = Laser()  #instanciamos una clase "
   ]
  },
  {
   "cell_type": "code",
   "execution_count": 7,
   "metadata": {
    "id": "hmg_Wp575lZB",
    "outputId": "5de3e6a4-badc-4e2a-ed95-c8c5206fbeb4"
   },
   "outputs": [],
   "source": [
    "lectura=laser.get_data()\n",
    "lectura=np.asarray(laser.get_data().ranges)\n",
    "lectura=np.where(lectura>20,0,lectura) #remove infinito"
   ]
  },
  {
   "cell_type": "code",
   "execution_count": null,
   "metadata": {},
   "outputs": [],
   "source": [
    "lectura=laser.get_data()\n",
    "lectura=np.asarray(laser.get_data().ranges)\n",
    "lectura=np.where(lectura>20,0,lectura) #remove infinito\n",
    "front_scan=  lectura[3*len(lectura)/4:5*len(lectura)/4]\n",
    "right_scan=  lectura[len(lectura)/2:]   \n",
    "right_scan= right_scan[::-1]\n",
    "right_scan=right_scan[:len(right_scan)/2]\n",
    "left_scan=  lectura[:len(lectura)/4] \n",
    "\n",
    "\n",
    "#right_scan=  lectura[len(lectura)/2:(len(lectura)/2)+20]\n",
    "#left_scan =  lectura[len(lectura)/2-20:len(lectura)/2]"
   ]
  },
  {
   "cell_type": "code",
   "execution_count": null,
   "metadata": {},
   "outputs": [],
   "source": [
    "left_scan=  lectura[:len(lectura)/4] \n",
    "left_scan"
   ]
  },
  {
   "cell_type": "code",
   "execution_count": null,
   "metadata": {},
   "outputs": [],
   "source": [
    "front_scan.mean(),right_scan.mean(),left_scan.mean()"
   ]
  },
  {
   "cell_type": "code",
   "execution_count": null,
   "metadata": {
    "id": "R547AhVX5lZC"
   },
   "outputs": [],
   "source": [
    "def get_lectura_cuant():\n",
    "    lectura=np.asarray(laser.get_data().ranges)\n",
    "    \n",
    "    lectura=np.where(lectura>3,0,lectura) #remove infinito\n",
    "    front_scan=  lectura[3*len(lectura)/4:5*len(lectura)/4]\n",
    "    front_scan=  lectura[3*len(lectura)/4:5*len(lectura)/4]\n",
    "    right_scan=  lectura[len(lectura)/2:]   \n",
    "    right_scan= right_scan[::-1]\n",
    "    right_scan=right_scan[:len(right_scan)/8]\n",
    "    left_scan=  lectura[:len(lectura)/8] \n",
    "\n",
    "\n",
    "\n",
    "    sd,si=0,0\n",
    "    if np.mean(left_scan) > 0:   si=1\n",
    "    if np.mean(right_scan)> 0:   sd=1\n",
    "    return si,sd#front scan \n"
   ]
  },
  {
   "cell_type": "code",
   "execution_count": null,
   "metadata": {
    "id": "ypXam3AC5lZC"
   },
   "outputs": [],
   "source": []
  },
  {
   "cell_type": "code",
   "execution_count": null,
   "metadata": {
    "id": "wNx9xrWj5lZC"
   },
   "outputs": [],
   "source": [
    "si,sd=get_lectura_cuant()\n",
    "si,sd"
   ]
  },
  {
   "cell_type": "code",
   "execution_count": null,
   "metadata": {},
   "outputs": [],
   "source": [
    "move_forward()\n",
    "#turn_left()"
   ]
  },
  {
   "cell_type": "code",
   "execution_count": null,
   "metadata": {
    "id": "6c2iX1U85lZC",
    "outputId": "08301224-f941-4ce2-f90f-f8a0fa68fc3a"
   },
   "outputs": [],
   "source": [
    "si,sd=get_lectura_cuant()\n",
    "next_state= 's_0'\n",
    "i=0\n",
    "print (i, next_state, si, sd)"
   ]
  },
  {
   "cell_type": "code",
   "execution_count": null,
   "metadata": {
    "id": "4auWTRBP5lZC",
    "outputId": "8dfb7b6f-3bac-41a4-a33d-34058d08512d",
    "scrolled": true
   },
   "outputs": [],
   "source": [
    "for i in range (250):## 20 pasos  pueden ser mas\n",
    "    print ('step',i,'next ', next_state,'sensor izq', si,'sensor der', sd)\n",
    "#print (next_state)\n",
    "    if next_state== 's_0':\n",
    "        print ('im in state ' , next_state)\n",
    "        si,sd=get_lectura_cuant()\n",
    "        #ESTADO 0 obtener lectura\n",
    "        if (si==0 and sd==0): next_state='s_0'\n",
    "            \n",
    "        if (si==0 and sd==1): next_state='s_1'\n",
    "        if (si==1 and sd==0): next_state='s_3'\n",
    "        if (si==1 and sd==1): next_state='s_5'\n",
    "        #####Accion\n",
    "        move_forward()\n",
    "        \n",
    "\n",
    "\n",
    "\n",
    "    elif next_state== 's_1':\n",
    "        print ('im in state 1')\n",
    "\n",
    "        #####Accion\n",
    "        move_backward()\n",
    "\n",
    "        next_state='s_2'\n",
    "\n",
    "\n",
    "    elif next_state== 's_2':\n",
    "        print ('im in state 2')\n",
    "        #####Accion\n",
    "        turn_left()\n",
    "        next_state='s_0'\n",
    "\n",
    "\n",
    "    elif next_state== 's_3':\n",
    "        print ('im in state 3')\n",
    "        #####Accion\n",
    "        move_backward()\n",
    "        next_state='s_4'\n",
    "\n",
    "\n",
    "    elif next_state== 's_4':\n",
    "        print ('im in state 4')\n",
    "        #####Accion\n",
    "        turn_right()\n",
    "        next_state='s_0'\n",
    "\n",
    "    elif next_state== 's_5':\n",
    "        print ('im in state 5')\n",
    "\n",
    "        #####Accion\n",
    "\n",
    "        move_backward()\n",
    "        move_backward()\n",
    "        move_backward()\n",
    "        next_state='s_6'\n",
    "\n",
    "    elif next_state== 's_6':\n",
    "        print ('im in state 6')\n",
    "        #####Accion\n",
    "        turn_left()\n",
    "        next_state='s_7'\n",
    "\n",
    "    elif next_state== 's_7':\n",
    "        print ('im in state 7')\n",
    "        #####Accion\n",
    "        turn_left()\n",
    "        next_state='s_8'\n",
    "\n",
    "    elif next_state== 's_8':\n",
    "        print ('im in state 8')\n",
    "\n",
    "        #####Accion\n",
    "        move_forward()\n",
    "        next_state='s_9'\n",
    "\n",
    "    elif next_state== 's_9':\n",
    "        print ('im in state 9')\n",
    "        #####Accion\n",
    "        #move_forward()\n",
    "        next_state='s_10'\n",
    "\n",
    "    elif next_state== 's_10':\n",
    "        print ('im in state 10')\n",
    "        #####Accion\n",
    "        turn_right()\n",
    "        next_state='s_11'\n",
    "    elif next_state== 's_11':\n",
    "        print ('im in state 11')\n",
    "\n",
    "        #####Accion\n",
    "        turn_right()\n",
    "        next_state='s_0'\n",
    "\n",
    "\n",
    "\n",
    "\n"
   ]
  },
  {
   "cell_type": "code",
   "execution_count": null,
   "metadata": {
    "id": "6fCHQW8D5lZD",
    "outputId": "756c3f59-4fa6-4f69-9ce0-432cd83e37e2"
   },
   "outputs": [],
   "source": [
    "print ('step, next_state, ssensorizq, sensor derecha',i, next_state, si, sd)"
   ]
  },
  {
   "cell_type": "code",
   "execution_count": null,
   "metadata": {
    "id": "7GqQxZHI5lZD"
   },
   "outputs": [],
   "source": []
  },
  {
   "cell_type": "code",
   "execution_count": null,
   "metadata": {},
   "outputs": [],
   "source": [
    "move_forward()"
   ]
  },
  {
   "cell_type": "code",
   "execution_count": null,
   "metadata": {},
   "outputs": [],
   "source": [
    "right_scan=  lectura[len(lectura)/4:(len(lectura)/2)-20]\n",
    "left_scan =  lectura[len(lectura)/2:3*len(lectura)/3]\n",
    "front_scan=  lectura[len(lectura)/2+20:3*len(lectura)/4]\n"
   ]
  },
  {
   "cell_type": "code",
   "execution_count": null,
   "metadata": {},
   "outputs": [],
   "source": [
    "right_scan.mean()"
   ]
  },
  {
   "cell_type": "code",
   "execution_count": null,
   "metadata": {},
   "outputs": [],
   "source": [
    "left_scan.mean()"
   ]
  },
  {
   "cell_type": "code",
   "execution_count": 8,
   "metadata": {},
   "outputs": [
    {
     "ename": "TypeError",
     "evalue": "_laser_cb() takes exactly 2 arguments (1 given)",
     "output_type": "error",
     "traceback": [
      "\u001b[0;31m---------------------------------------------------------------------------\u001b[0m",
      "\u001b[0;31mTypeError\u001b[0m                                 Traceback (most recent call last)",
      "\u001b[0;32m<ipython-input-8-9f05f90cf859>\u001b[0m in \u001b[0;36m<module>\u001b[0;34m()\u001b[0m\n\u001b[0;32m----> 1\u001b[0;31m \u001b[0mlaser\u001b[0m\u001b[0;34m.\u001b[0m\u001b[0m_laser_cb\u001b[0m\u001b[0;34m(\u001b[0m\u001b[0;34m)\u001b[0m\u001b[0;34m\u001b[0m\u001b[0m\n\u001b[0m",
      "\u001b[0;31mTypeError\u001b[0m: _laser_cb() takes exactly 2 arguments (1 given)"
     ]
    }
   ],
   "source": [
    "laser._laser_cb()"
   ]
  },
  {
   "cell_type": "markdown",
   "metadata": {},
   "source": [
    "# ODOM"
   ]
  },
  {
   "cell_type": "code",
   "execution_count": 9,
   "metadata": {},
   "outputs": [],
   "source": [
    "import tf\n",
    "def newOdom (msg):\n",
    "    global x\n",
    "    global y\n",
    "    global th\n",
    "    \n",
    "    x=msg.pose.pose.position.x\n",
    "    y=msg.pose.pose.position.y\n",
    "    quaternion = (\n",
    "    msg.pose.pose.orientation.x,\n",
    "    msg.pose.pose.orientation.y,\n",
    "    msg.pose.pose.orientation.z,\n",
    "    msg.pose.pose.orientation.w)\n",
    "    euler = tf.transformations.euler_from_quaternion(quaternion)\n",
    "    th=euler[2]\n"
   ]
  },
  {
   "cell_type": "code",
   "execution_count": 10,
   "metadata": {},
   "outputs": [],
   "source": [
    "#READ CLICK POINT\n",
    "from geometry_msgs.msg import PointStamped\n",
    "def readPoint(punto):\n",
    "     global xcl , ycl\n",
    "     \n",
    "     xcl =punto.point.x\n",
    "     ycl =punto.point.y"
   ]
  },
  {
   "cell_type": "code",
   "execution_count": 11,
   "metadata": {},
   "outputs": [],
   "source": [
    "from nav_msgs.msg import Odometry\n",
    "\n",
    "sub= rospy.Subscriber(\"/odom\",Odometry,newOdom)\n"
   ]
  },
  {
   "cell_type": "code",
   "execution_count": 12,
   "metadata": {},
   "outputs": [],
   "source": [
    "pub = rospy.Publisher('/cmd_vel', Twist, queue_size=1)"
   ]
  },
  {
   "cell_type": "code",
   "execution_count": null,
   "metadata": {},
   "outputs": [],
   "source": []
  },
  {
   "cell_type": "code",
   "execution_count": null,
   "metadata": {},
   "outputs": [],
   "source": []
  },
  {
   "cell_type": "code",
   "execution_count": 13,
   "metadata": {},
   "outputs": [],
   "source": [
    "sub3=rospy.Subscriber(\"/clicked_point\",PointStamped,readPoint)\n"
   ]
  },
  {
   "cell_type": "code",
   "execution_count": 14,
   "metadata": {},
   "outputs": [
    {
     "ename": "NameError",
     "evalue": "name 'xcl' is not defined",
     "output_type": "error",
     "traceback": [
      "\u001b[0;31m---------------------------------------------------------------------------\u001b[0m",
      "\u001b[0;31mNameError\u001b[0m                                 Traceback (most recent call last)",
      "\u001b[0;32m<ipython-input-14-28c94eb1b90a>\u001b[0m in \u001b[0;36m<module>\u001b[0;34m()\u001b[0m\n\u001b[0;32m----> 1\u001b[0;31m \u001b[0mxcl\u001b[0m\u001b[0;34m,\u001b[0m\u001b[0mycl\u001b[0m\u001b[0;34m\u001b[0m\u001b[0m\n\u001b[0m",
      "\u001b[0;31mNameError\u001b[0m: name 'xcl' is not defined"
     ]
    }
   ],
   "source": [
    "xcl,ycl"
   ]
  },
  {
   "cell_type": "markdown",
   "metadata": {},
   "source": [
    "# POTFIELDS"
   ]
  },
  {
   "cell_type": "code",
   "execution_count": 15,
   "metadata": {},
   "outputs": [],
   "source": [
    "laser= Laser()"
   ]
  },
  {
   "cell_type": "code",
   "execution_count": 16,
   "metadata": {},
   "outputs": [],
   "source": [
    "data=laser.get_data()\n",
    "lec=np.asarray(data.ranges)\n",
    "lec[np.isinf(lec)]=3.5\n"
   ]
  },
  {
   "cell_type": "code",
   "execution_count": 17,
   "metadata": {},
   "outputs": [],
   "source": [
    "deltaang=   ( data.angle_max-data.angle_min  )   /len(data.ranges)"
   ]
  },
  {
   "cell_type": "code",
   "execution_count": 18,
   "metadata": {},
   "outputs": [
    {
     "data": {
      "text/plain": [
       "0.01745330492655436"
      ]
     },
     "execution_count": 18,
     "metadata": {},
     "output_type": "execute_result"
    }
   ],
   "source": [
    "deltaang"
   ]
  },
  {
   "cell_type": "code",
   "execution_count": 19,
   "metadata": {},
   "outputs": [],
   "source": [
    "laserdegs=  np.arange(data.angle_min,data.angle_max,deltaang)"
   ]
  },
  {
   "cell_type": "code",
   "execution_count": 45,
   "metadata": {},
   "outputs": [],
   "source": [
    "Fx=0\n",
    "Fy = 0.001\n",
    "for i,deg in enumerate(laserdegs):\n",
    "    if i >=360:break \n",
    "    \n",
    "    if (lec[i] <2.61):\n",
    "        Fx = Fx + (1/lec[i])**2 * np.cos(deg)\n",
    "        Fy = Fy + (1/lec[i])**2 * np.sin(deg)\n",
    "         "
   ]
  },
  {
   "cell_type": "code",
   "execution_count": 46,
   "metadata": {},
   "outputs": [
    {
     "name": "stdout",
     "output_type": "stream",
     "text": [
      "('FxFyFth', 2.831774100054194, -6.471874587868857, 113.63182216305205)\n"
     ]
    }
   ],
   "source": [
    "Fth= np.arctan2(Fy,Fx)+np.pi\n",
    "print('FxFyFth',Fx,Fy,Fth*180/np.pi)\n",
    "Fmag= np.linalg.norm((Fx,Fy))"
   ]
  },
  {
   "cell_type": "code",
   "execution_count": null,
   "metadata": {},
   "outputs": [],
   "source": []
  },
  {
   "cell_type": "code",
   "execution_count": 47,
   "metadata": {},
   "outputs": [
    {
     "name": "stdout",
     "output_type": "stream",
     "text": [
      "('xclick,yclick', 2.4578332901000977, 0.049355849623680115, 'euclD', 1.20885987481816)\n"
     ]
    }
   ],
   "source": [
    "xy,xycl=np.array((x,y)) ,   np.array((xcl,ycl))\n",
    "euclD=np.linalg.norm(xy-xycl)\n",
    "#print(\"xrob,yrob, throbot\",x,y,th*180/3.1416)\n",
    "print(\"xclick,yclick\",xcl,ycl,\"euclD\",euclD)\n",
    "\n"
   ]
  },
  {
   "cell_type": "code",
   "execution_count": 48,
   "metadata": {},
   "outputs": [
    {
     "name": "stdout",
     "output_type": "stream",
     "text": [
      "('Fatx, Fatry, Fatrth', 0.8662209399253755, -0.4998171523389419, -208.89798227785167)\n"
     ]
    }
   ],
   "source": [
    "Fatrx =( -x + xcl)/euclD\n",
    "Fatry =( -y + ycl)/euclD      \n",
    "Fatrth=np.arctan2(Fatry, Fatrx) \n",
    "Fatrth=Fatrth-th\n",
    "Fmagat= np.linalg.norm((Fatrx,Fatry))\n",
    "print ('Fatx, Fatry, Fatrth',Fatrx,Fatry,(Fatrth)*180/np.pi )"
   ]
  },
  {
   "cell_type": "code",
   "execution_count": 49,
   "metadata": {},
   "outputs": [],
   "source": [
    "Ftotx= Fmag*np.cos(Fth)*.00251   +    Fmagat*np.cos(Fatrth)\n",
    "Ftoty= Fmag*np.sin(Fth)*.00251    +    Fmagat*np.sin(Fatrth)\n",
    "Ftotth=np.arctan2(Ftoty,Ftotx)\n",
    "##################################################################\n",
    "if ( Ftotth> np.pi ):Ftotth=       -np.pi-    (Ftotth-np.pi)\n",
    "if (Ftotth < -np.pi):Ftotth= (Ftotth     +2 *np.pi)\n"
   ]
  },
  {
   "cell_type": "code",
   "execution_count": 52,
   "metadata": {},
   "outputs": [
    {
     "name": "stdout",
     "output_type": "stream",
     "text": [
      "('Ftotxy', -0.8826575409074306, 0.4995336265076682, 150.49262377855524)\n"
     ]
    }
   ],
   "source": [
    "print('Ftotxy',Ftotx,Ftoty,Ftotth*180/np.pi)\n"
   ]
  },
  {
   "cell_type": "code",
   "execution_count": 20,
   "metadata": {},
   "outputs": [
    {
     "ename": "NameError",
     "evalue": "name 'Ftotth' is not defined",
     "output_type": "error",
     "traceback": [
      "\u001b[0;31m---------------------------------------------------------------------------\u001b[0m",
      "\u001b[0;31mNameError\u001b[0m                                 Traceback (most recent call last)",
      "\u001b[0;32m<ipython-input-20-959cbe6dd5bb>\u001b[0m in \u001b[0;36m<module>\u001b[0;34m()\u001b[0m\n\u001b[1;32m      1\u001b[0m \u001b[0mspeed\u001b[0m\u001b[0;34m=\u001b[0m\u001b[0mTwist\u001b[0m\u001b[0;34m(\u001b[0m\u001b[0;34m)\u001b[0m\u001b[0;34m\u001b[0m\u001b[0m\n\u001b[1;32m      2\u001b[0m \u001b[0mvel\u001b[0m\u001b[0;34m=\u001b[0m\u001b[0;36m0.4\u001b[0m\u001b[0;34m\u001b[0m\u001b[0m\n\u001b[0;32m----> 3\u001b[0;31m \u001b[0;32mif\u001b[0m\u001b[0;34m(\u001b[0m \u001b[0mabs\u001b[0m\u001b[0;34m(\u001b[0m\u001b[0mFtotth\u001b[0m\u001b[0;34m)\u001b[0m \u001b[0;34m<\u001b[0m \u001b[0;36m.15\u001b[0m\u001b[0;34m)\u001b[0m \u001b[0;34m:\u001b[0m\u001b[0;31m#or (np.linalg.norm((Fx,Fy)) < 100):\u001b[0m\u001b[0;34m\u001b[0m\u001b[0m\n\u001b[0m\u001b[1;32m      4\u001b[0m      \u001b[0mspeed\u001b[0m\u001b[0;34m.\u001b[0m\u001b[0mlinear\u001b[0m\u001b[0;34m.\u001b[0m\u001b[0mx\u001b[0m\u001b[0;34m=\u001b[0m\u001b[0;36m1.9\u001b[0m\u001b[0;34m\u001b[0m\u001b[0m\n\u001b[1;32m      5\u001b[0m      \u001b[0;32mprint\u001b[0m\u001b[0;34m(\u001b[0m\u001b[0;34m'lin'\u001b[0m\u001b[0;34m)\u001b[0m\u001b[0;34m\u001b[0m\u001b[0m\n",
      "\u001b[0;31mNameError\u001b[0m: name 'Ftotth' is not defined"
     ]
    }
   ],
   "source": [
    "speed=Twist()\n",
    "vel=0.4\n",
    "if( abs(Ftotth) < .15) :#or (np.linalg.norm((Fx,Fy)) < 100):\n",
    "     speed.linear.x=1.9\n",
    "     print('lin')\n",
    "     speed.angular.z=0\n",
    "else:\n",
    "         \n",
    "        if Ftotth < 0:\n",
    "            if (abs( Ftotth ) < np.pi/2):\n",
    "                vel=.24\n",
    "                speed.angular.z=-0.25\n",
    "                print('open curve')\n",
    "         \n",
    "            print('Vang-')\n",
    "            speed.linear.x=vel\n",
    "            speed.angular.z=-0.25\n",
    "        if Ftotth > 0:\n",
    "            if (abs( Ftotth ) < np.pi/2):\n",
    "                vel=.24\n",
    "                print('open curve')\n",
    "         \n",
    "            \n",
    "            print('Vang+')\n",
    "            speed.linear.x=vel\n",
    "            speed.angular.z=.25"
   ]
  },
  {
   "cell_type": "code",
   "execution_count": 26,
   "metadata": {},
   "outputs": [],
   "source": [
    "def get_Rep_Force():\n",
    "    data=laser.get_data()\n",
    "    lec=np.asarray(data.ranges)\n",
    "    lec[np.isinf(lec)]=13.5\n",
    "    deltaang=   ( data.angle_max-data.angle_min  )   /len(data.ranges)\n",
    "    laserdegs=  np.arange(data.angle_min,data.angle_max,deltaang)\n",
    "    Fx=  0.0\n",
    "    Fy = 0.0\n",
    "    for i,deg in enumerate(laserdegs):\n",
    "        if i >=360:break \n",
    "\n",
    "        if (lec[i] <4.75): ###TUNABLE\n",
    "            Fx = Fx + (1/lec[i])**2 * np.cos(deg)\n",
    "            Fy = Fy + (1/lec[i])**2 * np.sin(deg)\n",
    "    Fth= np.arctan2(Fy,(Fx))+np.pi\n",
    "    #print('FxFyFth',Fx,Fy,Fth*180/np.pi)\n",
    "    Fmag= np.linalg.norm((Fx,Fy))\n",
    "    return Fx,Fy,Fmag,Fth\n",
    "    "
   ]
  },
  {
   "cell_type": "code",
   "execution_count": 27,
   "metadata": {},
   "outputs": [],
   "source": [
    "def get_Att_Force():\n",
    "    xy,xycl=np.array((x,y)) ,   np.array((xcl,ycl))\n",
    "    euclD=np.linalg.norm(xy-xycl)\n",
    "    #print(\"xrob,yrob, throbot\",x,y,th*180/3.1416)\n",
    "    #print(\"xclick,yclick\",xcl,ycl,\"euclD\",euclD)\n",
    "\n",
    "    Fatrx =( -x + xcl)/euclD\n",
    "    Fatry =( -y + ycl)/euclD      \n",
    "    Fatrth=np.arctan2(Fatry, Fatrx) \n",
    "    Fatrth=Fatrth-th\n",
    "    Fmagat= np.linalg.norm((Fatrx,Fatry))\n",
    "    #print ('Fatx, Fatry, Fatrth',Fatrx,Fatry,(Fatrth)*180/np.pi )\n",
    "    return  Fatrx, Fatry , Fmagat, Fatrth, euclD"
   ]
  },
  {
   "cell_type": "code",
   "execution_count": 28,
   "metadata": {},
   "outputs": [],
   "source": [
    "def get_Speed(Ftotx,Ftoty,Ftotth):\n",
    "    speed=Twist()\n",
    "    if( abs(Ftotth) < .1) :\n",
    "        \n",
    "        speed.linear.x=0.13\n",
    "        #print('lin')\n",
    "        speed.angular.z=0\n",
    "\n",
    "    else:\n",
    "        \n",
    "        if Ftotth < 0:                            \n",
    "                if (abs( Ftotth ) < np.pi/2):\n",
    "                    speed.linear.x= 0.025\n",
    "                    speed.angular.z=-0.25\n",
    "                    #print('open curve')\n",
    "                \n",
    "                else:                    \n",
    "                    #print('Vang-')\n",
    "                    speed.linear.x=  0.0\n",
    "                    speed.angular.z=-0.5\n",
    "                        \n",
    "        if Ftotth > 0:\n",
    "                if (abs( Ftotth ) < np.pi/2):\n",
    "                    speed.linear.x= 0.05\n",
    "                    speed.angular.z=.25\n",
    "                    #print('open curve')\n",
    "                \n",
    "                else:\n",
    "                    #print('Vang+')\n",
    "                    speed.linear.x=  0.0\n",
    "                    speed.angular.z= 0.5\n",
    "    return speed"
   ]
  },
  {
   "cell_type": "code",
   "execution_count": null,
   "metadata": {},
   "outputs": [],
   "source": []
  },
  {
   "cell_type": "code",
   "execution_count": 29,
   "metadata": {},
   "outputs": [
    {
     "ename": "NameError",
     "evalue": "name 'Ftotx' is not defined",
     "output_type": "error",
     "traceback": [
      "\u001b[0;31m---------------------------------------------------------------------------\u001b[0m",
      "\u001b[0;31mNameError\u001b[0m                                 Traceback (most recent call last)",
      "\u001b[0;32m<ipython-input-29-9eda5e82d0f1>\u001b[0m in \u001b[0;36m<module>\u001b[0;34m()\u001b[0m\n\u001b[0;32m----> 1\u001b[0;31m \u001b[0mget_Speed\u001b[0m\u001b[0;34m(\u001b[0m\u001b[0mFtotx\u001b[0m\u001b[0;34m,\u001b[0m\u001b[0mFtoty\u001b[0m\u001b[0;34m,\u001b[0m\u001b[0mFtotth\u001b[0m\u001b[0;34m)\u001b[0m\u001b[0;34m\u001b[0m\u001b[0m\n\u001b[0m",
      "\u001b[0;31mNameError\u001b[0m: name 'Ftotx' is not defined"
     ]
    }
   ],
   "source": [
    "get_Speed(Ftotx,Ftoty,Ftotth)"
   ]
  },
  {
   "cell_type": "code",
   "execution_count": null,
   "metadata": {},
   "outputs": [],
   "source": [
    "rate = rospy.Rate(10)\n",
    "counter=0\n",
    "while not rospy.is_shutdown():\n",
    "        counter+=1\n",
    "        Fx,Fy,Fmag,Fth          =get_Rep_Force()\n",
    "        Fatx,Faty,Fmagat,Fatrth, euclD =get_Att_Force()\n",
    "        #######TUNABLE\n",
    "        Ftotx= Fmag*np.cos(Fth)*.004   +    Fmagat*np.cos(Fatrth)\n",
    "        Ftoty= Fmag*np.sin(Fth)*.004    +    Fmagat*np.sin(Fatrth)\n",
    "        Ftotth=np.arctan2(Ftoty,Ftotx)\n",
    "        ###ANGLE NORMALIZATION\n",
    "        if ( Ftotth> np.pi ):     Ftotth=       -np.pi-    (Ftotth-np.pi)\n",
    "        if (Ftotth < -np.pi): Ftotth= (Ftotth     +2 *np.pi)\n",
    "        if counter==1000000:\n",
    "            print('Ftotxy',Ftotx,Ftoty,Ftotth*180/np.pi, 'eulcD', euclD)\n",
    "            counter=0\n",
    "        ####\n",
    "        speed=get_Speed(Ftotx,Ftoty,Ftotth)\n",
    "        #if eculD < 2: speed.linear.x=0.2\n",
    "        #if eculD < 0.5: \n",
    "            #speed.linear.x=0 \n",
    "            #print(\"im here\", euclD,(eculD < 0.5))\n",
    "            #rospy.sleep(1)\n",
    "            #break\n",
    "        pub.publish(speed)\n",
    "        rate.sleep()"
   ]
  },
  {
   "cell_type": "code",
   "execution_count": null,
   "metadata": {},
   "outputs": [],
   "source": [
    "# ENTREGAR"
   ]
  },
  {
   "cell_type": "markdown",
   "metadata": {},
   "source": [
    "# TAREA POR EQUIPOS"
   ]
  },
  {
   "cell_type": "markdown",
   "metadata": {},
   "source": [
    "# Programar al menos 3 conductas para el turltebot. \n",
    "# UTILIZAR MAQUINAS DE ESTADOS  y SMACH\n",
    " \n",
    " ## 1.   De ellas será  una evasión de obstáculos modificada de la tarea 1 para esta vez \"rodear\" el obstáculo\n",
    " (I.A. Clásica)\n",
    " \n",
    " ## 2.  Implemente navegación reactiva utilizando campos potenciales y SLAM\n",
    " (Completamente Reactivo).\n",
    " \n",
    " ## 3.  Implemente un \"árbtiro\" que sea capaz de detectar que el agente se encuentra en un mínimo local y repcuperar la movilidad.(Híbrido)\n",
    " \n",
    " ## 4. Utililzando tf2_ros  Obtenga un estimado de las coordenadas más \"seguras\".\n",
    " ### se sabe que las patas de las  mesas un son punto particularmente peligroso...\n",
    " \n",
    " Publique una transformada (tf ) en posiciones cuyas lecturas de lidar permiten suponer la presencia de una mesa o silla ... patas .\n",
    " \n",
    " \n",
    " \n",
    " \n",
    " \n",
    " \n",
    " "
   ]
  },
  {
   "cell_type": "markdown",
   "metadata": {},
   "source": [
    "# Obtener la ubicación del agente en el mapa... MAPAS SLAM:... "
   ]
  },
  {
   "cell_type": "code",
   "execution_count": null,
   "metadata": {},
   "outputs": [],
   "source": [
    "import tf2_ros\n",
    "tfBuffer = tf2_ros.Buffer()\n",
    "listener = tf2_ros.TransformListener(tfBuffer)\n",
    "def get_coords ():\n",
    "    trans = tfBuffer.lookup_transform('map', 'base_link', rospy.Time())\n",
    "    return trans\n"
   ]
  },
  {
   "cell_type": "code",
   "execution_count": 39,
   "metadata": {},
   "outputs": [
    {
     "data": {
      "text/plain": [
       "geometry_msgs.msg._TransformStamped.TransformStamped"
      ]
     },
     "execution_count": 39,
     "metadata": {},
     "output_type": "execute_result"
    }
   ],
   "source": [
    "t=get_coords()\n",
    "type (t)"
   ]
  },
  {
   "cell_type": "code",
   "execution_count": 40,
   "metadata": {},
   "outputs": [],
   "source": [
    "broadcaster = tf2_ros.StaticTransformBroadcaster()"
   ]
  },
  {
   "cell_type": "code",
   "execution_count": 42,
   "metadata": {},
   "outputs": [],
   "source": [
    "t.child_frame_id='here'"
   ]
  },
  {
   "cell_type": "code",
   "execution_count": 44,
   "metadata": {},
   "outputs": [],
   "source": [
    "broadcaster = tf2_ros.StaticTransformBroadcaster()\n"
   ]
  },
  {
   "cell_type": "code",
   "execution_count": 45,
   "metadata": {},
   "outputs": [],
   "source": [
    "broadcaster.sendTransform(t)"
   ]
  },
  {
   "cell_type": "code",
   "execution_count": null,
   "metadata": {},
   "outputs": [],
   "source": []
  }
 ],
 "metadata": {
  "colab": {
   "collapsed_sections": [
    "B1jN0hJ5QQVf",
    "AIior_xSQQVf"
   ],
   "provenance": []
  },
  "kernelspec": {
   "display_name": "Python 2",
   "language": "python",
   "name": "python2"
  },
  "language_info": {
   "codemirror_mode": {
    "name": "ipython",
    "version": 2
   },
   "file_extension": ".py",
   "mimetype": "text/x-python",
   "name": "python",
   "nbconvert_exporter": "python",
   "pygments_lexer": "ipython2",
   "version": "2.7.17"
  },
  "nbTranslate": {
   "displayLangs": [
    "ja",
    "en"
   ],
   "hotkey": "alt-t",
   "langInMainMenu": true,
   "sourceLang": "ja",
   "targetLang": "en",
   "useGoogleTranslate": true
  },
  "toc": {
   "base_numbering": 1,
   "nav_menu": {},
   "number_sections": true,
   "sideBar": true,
   "skip_h1_title": false,
   "title_cell": "Table of Contents",
   "title_sidebar": "Contents",
   "toc_cell": false,
   "toc_position": {},
   "toc_section_display": true,
   "toc_window_display": true
  }
 },
 "nbformat": 4,
 "nbformat_minor": 1
}
